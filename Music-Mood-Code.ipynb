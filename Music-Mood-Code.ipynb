{
  "nbformat": 4,
  "nbformat_minor": 0,
  "metadata": {
    "colab": {
      "provenance": [],
      "toc_visible": true,
      "authorship_tag": "ABX9TyMQd4ZW2KAQuk3O1T7v8SQZ",
      "include_colab_link": true
    },
    "kernelspec": {
      "name": "python3",
      "display_name": "Python 3"
    },
    "language_info": {
      "name": "python"
    }
  },
  "cells": [
    {
      "cell_type": "markdown",
      "metadata": {
        "id": "view-in-github",
        "colab_type": "text"
      },
      "source": [
        "<a href=\"https://colab.research.google.com/github/HalaShawky/Music-Analysis/blob/main/Music-Mood-Code.ipynb\" target=\"_parent\"><img src=\"https://colab.research.google.com/assets/colab-badge.svg\" alt=\"Open In Colab\"/></a>"
      ]
    },
    {
      "cell_type": "markdown",
      "source": [
        "# **Introduction**"
      ],
      "metadata": {
        "id": "HbJZS2iVvn8s"
      }
    },
    {
      "cell_type": "markdown",
      "source": [
        "Throughout history, music and emotions have always been linked together, and music has always been part of how people express their feelings of sadness, happiness, hope, or excitement. Whether music can indeed influence the listener's emotions, or merely convey such emotion has been a point of debate for many years, however, the fact that both elements can be studied together is a subject many agree on. As technology advances, new methods of music analysis are being explored and refined, allowing us to have a better understanding of music and its emotional impact.\n",
        "\n",
        "In this context, this project comes to explore and analyze the relationship of music to mood and the ability to predict mood through the features of music.\n",
        "\n",
        "This project aims to create artificial intelligence models using features of music to analyze it and predict the resulting mood. Machine learning and data mining techniques will be used to analyze various musical features and determine the connection between them and the mood.\n",
        "\n",
        "This project is expected to contribute to a better understanding of how can machine learning tools classify and predict listeners moods based on music features."
      ],
      "metadata": {
        "id": "NtIp9qyrvlvy"
      }
    },
    {
      "cell_type": "markdown",
      "source": [
        "The dataset used in this project is obtained from Muharam, M. G. (2020). Spotify Music data to Identify the Moods (Version 1). Kaggle. https://www.kaggle.com/code/muhammadghazimuharam/music-mood-classification/input"
      ],
      "metadata": {
        "id": "SPM8DqkvzNUb"
      }
    },
    {
      "cell_type": "markdown",
      "source": [
        "# Business Understanding"
      ],
      "metadata": {
        "id": "jSYxtx2p_JNo"
      }
    },
    {
      "cell_type": "markdown",
      "source": [
        "Recently people have now been accustmed to recommendation systems in all sorts of media, like their online video and audio streaming services, their news feeds, and online retail options.\n",
        "\n",
        "Our focus however will be on music subscription services that use recommendation systems to curate individual songs into personalized playlists according to a certain criteria, and in our case, it will be based on mood.\n",
        "\n",
        "Our goal in this project is to build a predictive model that accurately categorizes music tracks into various moods.\n",
        "\n",
        "This model can be used in the music recommendation systems that is utilized by many online music streaming applications."
      ],
      "metadata": {
        "id": "2GENHl2s_Psg"
      }
    },
    {
      "cell_type": "markdown",
      "source": [
        "# Data Understanding"
      ],
      "metadata": {
        "id": "zZxHSWBhzPLU"
      }
    },
    {
      "cell_type": "code",
      "source": [
        "import numpy as np\n",
        "import pandas as pd\n",
        "import seaborn as sns\n",
        "from matplotlib import pyplot as plt\n",
        "\n",
        "from sklearn.ensemble import RandomForestClassifier\n",
        "from sklearn.metrics import f1_score\n",
        "from sklearn.model_selection import train_test_split\n",
        "\n",
        "from sklearn import preprocessing\n",
        "from sklearn.model_selection import StratifiedShuffleSplit\n",
        "\n",
        "from sklearn.neighbors import KNeighborsClassifier\n",
        "from sklearn.metrics import accuracy_score, confusion_matrix\n",
        "from sklearn.preprocessing import StandardScaler\n",
        "from sklearn.model_selection import GridSearchCV"
      ],
      "metadata": {
        "id": "uT_C_8paB6dF"
      },
      "execution_count": 167,
      "outputs": []
    },
    {
      "cell_type": "markdown",
      "source": [
        "This dataset uses the Spotify API for developers that makes use of their huge database of music for building interesting applications and studying people's music listening habits.  \n",
        "**The columns are as follows:**  \n",
        "* **name:** name of the track  \n",
        "* **album:** name of the album   \n",
        "* **artist:** name of artist   \n",
        "* **id:** Spotify track id   \n",
        "* **release_date:** release date of the track (yyyy-mm-dd)   \n",
        "* **popularity:** the popularity of the track as an integer between 0 and 100, with 100 being the most popular\n",
        "*   **length**: duration of a song in miliseconds (ms)\n",
        "*   **danceability:** describes how suitable a track is for dancing based on a combination of musical elements including tempo, rhythm stability, and beat strength\n",
        "* **acousticness:**  it is a measure that describes how acoustic a track is\n",
        "* **energy:** represents a perceptual measure of intensity and activity\n",
        "* **instrumentalness:**\tPredicts whether a track contains no vocals\n",
        "* **liveness:**\tdescribes the presence of an audience in a musical recording\n",
        "* **valence:** describes the musical positiveness of a track.\n",
        "* **loudness:**\tit is the overall loudness of a track in decibels (dB)\n",
        "* **speechiness:** detects the presence of spoken words in a track\n",
        "* **tempo:**\tThe overall estimated tempo of a track in beats per minute (BPM)\n",
        "* **key:**  refers to the key of a track. The key is represented as an integer value and corresponds to the pitch class notation\n",
        "* **time_signature:**\tit is a numerical symbol that indicates the number of beats in a measure and the type of note that receives one beat\n",
        "* **mood:** a subjective label assigned to each track, indicating the emotional tone or atmosphere conveyed by the music\n",
        "\n",
        "\n",
        "\n",
        "\n"
      ],
      "metadata": {
        "id": "1RpA8kpgEJsr"
      }
    },
    {
      "cell_type": "code",
      "source": [
        "url = 'https://raw.githubusercontent.com/HalaShawky/Music-Analysis/main/data_moods.csv?token=GHSAT0AAAAAACKVGEP4L73FFL75IPEUVXU6ZLWFRBQ'\n",
        "df = pd.read_csv(url)\n",
        "df"
      ],
      "metadata": {
        "colab": {
          "base_uri": "https://localhost:8080/",
          "height": 634
        },
        "id": "WqNJGIm5NfdW",
        "outputId": "eca9716c-d3d8-4159-8a52-b443b02ecb40"
      },
      "execution_count": 168,
      "outputs": [
        {
          "output_type": "execute_result",
          "data": {
            "text/plain": [
              "                                            name  \\\n",
              "0                                           1999   \n",
              "1                                             23   \n",
              "2                                       9 Crimes   \n",
              "3                                 99 Luftballons   \n",
              "4    A Boy Brushed Red Living In Black And White   \n",
              "..                                           ...   \n",
              "681                                  windcatcher   \n",
              "682              yellow is the color of her eyes   \n",
              "683                           you broke me first   \n",
              "684                          you were good to me   \n",
              "685                                         æfre   \n",
              "\n",
              "                               album          artist                      id  \\\n",
              "0                               1999          Prince  2H7PHVdQ3mXqEHXcvclTB0   \n",
              "1                                 23  Blonde Redhead  4HIwL9ii9CcXpTOTzMq0MP   \n",
              "2                                  9     Damien Rice  5GZEeowhvSieFDiR8fQ2im   \n",
              "3                     99 Luftballons            Nena  6HA97v4wEGQ5TUClRM0XLc   \n",
              "4        They're Only Chasing Safety       Underoath  47IWLfIKOKhFnz1FUEUIkE   \n",
              "..                               ...             ...                     ...   \n",
              "681                      windcatcher       Leo Nocta  59VApBbrS2IADQk4ml5mdo   \n",
              "682  yellow is the color of her eyes    Soccer Mommy  4D3nttJPU6L0M2epr7sId6   \n",
              "683               you broke me first      Tate McRae  45bE4HXI0AwGZXfZtMp8JR   \n",
              "684                            brent   Jeremy Zucker  4CxFN5zON70B3VOPBYbd6P   \n",
              "685                             æfre           praam  2irbT1BSYaIEF44PlyKaoM   \n",
              "\n",
              "    release_date  popularity  length  danceability  acousticness  energy  \\\n",
              "0     1982-10-27          68  379266         0.866       0.13700  0.7300   \n",
              "1     2007-04-16          43  318800         0.381       0.01890  0.8320   \n",
              "2     2006-11-06          60  217946         0.346       0.91300  0.1390   \n",
              "3     1984-08-21           2  233000         0.466       0.08900  0.4380   \n",
              "4     2004-01-01          60  268000         0.419       0.00171  0.9320   \n",
              "..           ...         ...     ...           ...           ...     ...   \n",
              "681   2020-06-19          36  123066         0.402       0.96100  0.2360   \n",
              "682   2019-11-19           5  435080         0.452       0.75700  0.5150   \n",
              "683   2020-04-17          87  169265         0.642       0.78600  0.3740   \n",
              "684   2019-05-03          76  219146         0.561       0.91300  0.0848   \n",
              "685   2020-07-17          41  186331         0.377       0.99400  0.0156   \n",
              "\n",
              "     instrumentalness  liveness  valence  loudness  speechiness    tempo  key  \\\n",
              "0            0.000000    0.0843   0.6250    -8.201       0.0767  118.523    5   \n",
              "1            0.196000    0.1530   0.1660    -5.069       0.0492  120.255    8   \n",
              "2            0.000077    0.0934   0.1160   -15.326       0.0321  136.168    0   \n",
              "3            0.000006    0.1130   0.5870   -12.858       0.0608  193.100    4   \n",
              "4            0.000000    0.1370   0.4450    -3.604       0.1060  169.881    1   \n",
              "..                ...       ...      ...       ...          ...      ...  ...   \n",
              "681          0.919000    0.0921   0.1460   -20.615       0.0603  129.736    0   \n",
              "682          0.120000    0.1400   0.1910    -7.351       0.0255   80.537   11   \n",
              "683          0.000000    0.0906   0.0799    -9.386       0.0545  124.099    4   \n",
              "684          0.000026    0.1120   0.2060   -15.099       0.0404  102.128    2   \n",
              "685          0.881000    0.0991   0.0804   -28.435       0.0397  140.179    0   \n",
              "\n",
              "     time_signature       mood  \n",
              "0                 4      Happy  \n",
              "1                 4        Sad  \n",
              "2                 4        Sad  \n",
              "3                 4      Happy  \n",
              "4                 4  Energetic  \n",
              "..              ...        ...  \n",
              "681               3       Calm  \n",
              "682               4        Sad  \n",
              "683               4        Sad  \n",
              "684               4        Sad  \n",
              "685               4       Calm  \n",
              "\n",
              "[686 rows x 19 columns]"
            ],
            "text/html": [
              "\n",
              "  <div id=\"df-973e2353-be98-4710-922b-1aecd3fd0d7a\" class=\"colab-df-container\">\n",
              "    <div>\n",
              "<style scoped>\n",
              "    .dataframe tbody tr th:only-of-type {\n",
              "        vertical-align: middle;\n",
              "    }\n",
              "\n",
              "    .dataframe tbody tr th {\n",
              "        vertical-align: top;\n",
              "    }\n",
              "\n",
              "    .dataframe thead th {\n",
              "        text-align: right;\n",
              "    }\n",
              "</style>\n",
              "<table border=\"1\" class=\"dataframe\">\n",
              "  <thead>\n",
              "    <tr style=\"text-align: right;\">\n",
              "      <th></th>\n",
              "      <th>name</th>\n",
              "      <th>album</th>\n",
              "      <th>artist</th>\n",
              "      <th>id</th>\n",
              "      <th>release_date</th>\n",
              "      <th>popularity</th>\n",
              "      <th>length</th>\n",
              "      <th>danceability</th>\n",
              "      <th>acousticness</th>\n",
              "      <th>energy</th>\n",
              "      <th>instrumentalness</th>\n",
              "      <th>liveness</th>\n",
              "      <th>valence</th>\n",
              "      <th>loudness</th>\n",
              "      <th>speechiness</th>\n",
              "      <th>tempo</th>\n",
              "      <th>key</th>\n",
              "      <th>time_signature</th>\n",
              "      <th>mood</th>\n",
              "    </tr>\n",
              "  </thead>\n",
              "  <tbody>\n",
              "    <tr>\n",
              "      <th>0</th>\n",
              "      <td>1999</td>\n",
              "      <td>1999</td>\n",
              "      <td>Prince</td>\n",
              "      <td>2H7PHVdQ3mXqEHXcvclTB0</td>\n",
              "      <td>1982-10-27</td>\n",
              "      <td>68</td>\n",
              "      <td>379266</td>\n",
              "      <td>0.866</td>\n",
              "      <td>0.13700</td>\n",
              "      <td>0.7300</td>\n",
              "      <td>0.000000</td>\n",
              "      <td>0.0843</td>\n",
              "      <td>0.6250</td>\n",
              "      <td>-8.201</td>\n",
              "      <td>0.0767</td>\n",
              "      <td>118.523</td>\n",
              "      <td>5</td>\n",
              "      <td>4</td>\n",
              "      <td>Happy</td>\n",
              "    </tr>\n",
              "    <tr>\n",
              "      <th>1</th>\n",
              "      <td>23</td>\n",
              "      <td>23</td>\n",
              "      <td>Blonde Redhead</td>\n",
              "      <td>4HIwL9ii9CcXpTOTzMq0MP</td>\n",
              "      <td>2007-04-16</td>\n",
              "      <td>43</td>\n",
              "      <td>318800</td>\n",
              "      <td>0.381</td>\n",
              "      <td>0.01890</td>\n",
              "      <td>0.8320</td>\n",
              "      <td>0.196000</td>\n",
              "      <td>0.1530</td>\n",
              "      <td>0.1660</td>\n",
              "      <td>-5.069</td>\n",
              "      <td>0.0492</td>\n",
              "      <td>120.255</td>\n",
              "      <td>8</td>\n",
              "      <td>4</td>\n",
              "      <td>Sad</td>\n",
              "    </tr>\n",
              "    <tr>\n",
              "      <th>2</th>\n",
              "      <td>9 Crimes</td>\n",
              "      <td>9</td>\n",
              "      <td>Damien Rice</td>\n",
              "      <td>5GZEeowhvSieFDiR8fQ2im</td>\n",
              "      <td>2006-11-06</td>\n",
              "      <td>60</td>\n",
              "      <td>217946</td>\n",
              "      <td>0.346</td>\n",
              "      <td>0.91300</td>\n",
              "      <td>0.1390</td>\n",
              "      <td>0.000077</td>\n",
              "      <td>0.0934</td>\n",
              "      <td>0.1160</td>\n",
              "      <td>-15.326</td>\n",
              "      <td>0.0321</td>\n",
              "      <td>136.168</td>\n",
              "      <td>0</td>\n",
              "      <td>4</td>\n",
              "      <td>Sad</td>\n",
              "    </tr>\n",
              "    <tr>\n",
              "      <th>3</th>\n",
              "      <td>99 Luftballons</td>\n",
              "      <td>99 Luftballons</td>\n",
              "      <td>Nena</td>\n",
              "      <td>6HA97v4wEGQ5TUClRM0XLc</td>\n",
              "      <td>1984-08-21</td>\n",
              "      <td>2</td>\n",
              "      <td>233000</td>\n",
              "      <td>0.466</td>\n",
              "      <td>0.08900</td>\n",
              "      <td>0.4380</td>\n",
              "      <td>0.000006</td>\n",
              "      <td>0.1130</td>\n",
              "      <td>0.5870</td>\n",
              "      <td>-12.858</td>\n",
              "      <td>0.0608</td>\n",
              "      <td>193.100</td>\n",
              "      <td>4</td>\n",
              "      <td>4</td>\n",
              "      <td>Happy</td>\n",
              "    </tr>\n",
              "    <tr>\n",
              "      <th>4</th>\n",
              "      <td>A Boy Brushed Red Living In Black And White</td>\n",
              "      <td>They're Only Chasing Safety</td>\n",
              "      <td>Underoath</td>\n",
              "      <td>47IWLfIKOKhFnz1FUEUIkE</td>\n",
              "      <td>2004-01-01</td>\n",
              "      <td>60</td>\n",
              "      <td>268000</td>\n",
              "      <td>0.419</td>\n",
              "      <td>0.00171</td>\n",
              "      <td>0.9320</td>\n",
              "      <td>0.000000</td>\n",
              "      <td>0.1370</td>\n",
              "      <td>0.4450</td>\n",
              "      <td>-3.604</td>\n",
              "      <td>0.1060</td>\n",
              "      <td>169.881</td>\n",
              "      <td>1</td>\n",
              "      <td>4</td>\n",
              "      <td>Energetic</td>\n",
              "    </tr>\n",
              "    <tr>\n",
              "      <th>...</th>\n",
              "      <td>...</td>\n",
              "      <td>...</td>\n",
              "      <td>...</td>\n",
              "      <td>...</td>\n",
              "      <td>...</td>\n",
              "      <td>...</td>\n",
              "      <td>...</td>\n",
              "      <td>...</td>\n",
              "      <td>...</td>\n",
              "      <td>...</td>\n",
              "      <td>...</td>\n",
              "      <td>...</td>\n",
              "      <td>...</td>\n",
              "      <td>...</td>\n",
              "      <td>...</td>\n",
              "      <td>...</td>\n",
              "      <td>...</td>\n",
              "      <td>...</td>\n",
              "      <td>...</td>\n",
              "    </tr>\n",
              "    <tr>\n",
              "      <th>681</th>\n",
              "      <td>windcatcher</td>\n",
              "      <td>windcatcher</td>\n",
              "      <td>Leo Nocta</td>\n",
              "      <td>59VApBbrS2IADQk4ml5mdo</td>\n",
              "      <td>2020-06-19</td>\n",
              "      <td>36</td>\n",
              "      <td>123066</td>\n",
              "      <td>0.402</td>\n",
              "      <td>0.96100</td>\n",
              "      <td>0.2360</td>\n",
              "      <td>0.919000</td>\n",
              "      <td>0.0921</td>\n",
              "      <td>0.1460</td>\n",
              "      <td>-20.615</td>\n",
              "      <td>0.0603</td>\n",
              "      <td>129.736</td>\n",
              "      <td>0</td>\n",
              "      <td>3</td>\n",
              "      <td>Calm</td>\n",
              "    </tr>\n",
              "    <tr>\n",
              "      <th>682</th>\n",
              "      <td>yellow is the color of her eyes</td>\n",
              "      <td>yellow is the color of her eyes</td>\n",
              "      <td>Soccer Mommy</td>\n",
              "      <td>4D3nttJPU6L0M2epr7sId6</td>\n",
              "      <td>2019-11-19</td>\n",
              "      <td>5</td>\n",
              "      <td>435080</td>\n",
              "      <td>0.452</td>\n",
              "      <td>0.75700</td>\n",
              "      <td>0.5150</td>\n",
              "      <td>0.120000</td>\n",
              "      <td>0.1400</td>\n",
              "      <td>0.1910</td>\n",
              "      <td>-7.351</td>\n",
              "      <td>0.0255</td>\n",
              "      <td>80.537</td>\n",
              "      <td>11</td>\n",
              "      <td>4</td>\n",
              "      <td>Sad</td>\n",
              "    </tr>\n",
              "    <tr>\n",
              "      <th>683</th>\n",
              "      <td>you broke me first</td>\n",
              "      <td>you broke me first</td>\n",
              "      <td>Tate McRae</td>\n",
              "      <td>45bE4HXI0AwGZXfZtMp8JR</td>\n",
              "      <td>2020-04-17</td>\n",
              "      <td>87</td>\n",
              "      <td>169265</td>\n",
              "      <td>0.642</td>\n",
              "      <td>0.78600</td>\n",
              "      <td>0.3740</td>\n",
              "      <td>0.000000</td>\n",
              "      <td>0.0906</td>\n",
              "      <td>0.0799</td>\n",
              "      <td>-9.386</td>\n",
              "      <td>0.0545</td>\n",
              "      <td>124.099</td>\n",
              "      <td>4</td>\n",
              "      <td>4</td>\n",
              "      <td>Sad</td>\n",
              "    </tr>\n",
              "    <tr>\n",
              "      <th>684</th>\n",
              "      <td>you were good to me</td>\n",
              "      <td>brent</td>\n",
              "      <td>Jeremy Zucker</td>\n",
              "      <td>4CxFN5zON70B3VOPBYbd6P</td>\n",
              "      <td>2019-05-03</td>\n",
              "      <td>76</td>\n",
              "      <td>219146</td>\n",
              "      <td>0.561</td>\n",
              "      <td>0.91300</td>\n",
              "      <td>0.0848</td>\n",
              "      <td>0.000026</td>\n",
              "      <td>0.1120</td>\n",
              "      <td>0.2060</td>\n",
              "      <td>-15.099</td>\n",
              "      <td>0.0404</td>\n",
              "      <td>102.128</td>\n",
              "      <td>2</td>\n",
              "      <td>4</td>\n",
              "      <td>Sad</td>\n",
              "    </tr>\n",
              "    <tr>\n",
              "      <th>685</th>\n",
              "      <td>æfre</td>\n",
              "      <td>æfre</td>\n",
              "      <td>praam</td>\n",
              "      <td>2irbT1BSYaIEF44PlyKaoM</td>\n",
              "      <td>2020-07-17</td>\n",
              "      <td>41</td>\n",
              "      <td>186331</td>\n",
              "      <td>0.377</td>\n",
              "      <td>0.99400</td>\n",
              "      <td>0.0156</td>\n",
              "      <td>0.881000</td>\n",
              "      <td>0.0991</td>\n",
              "      <td>0.0804</td>\n",
              "      <td>-28.435</td>\n",
              "      <td>0.0397</td>\n",
              "      <td>140.179</td>\n",
              "      <td>0</td>\n",
              "      <td>4</td>\n",
              "      <td>Calm</td>\n",
              "    </tr>\n",
              "  </tbody>\n",
              "</table>\n",
              "<p>686 rows × 19 columns</p>\n",
              "</div>\n",
              "    <div class=\"colab-df-buttons\">\n",
              "\n",
              "  <div class=\"colab-df-container\">\n",
              "    <button class=\"colab-df-convert\" onclick=\"convertToInteractive('df-973e2353-be98-4710-922b-1aecd3fd0d7a')\"\n",
              "            title=\"Convert this dataframe to an interactive table.\"\n",
              "            style=\"display:none;\">\n",
              "\n",
              "  <svg xmlns=\"http://www.w3.org/2000/svg\" height=\"24px\" viewBox=\"0 -960 960 960\">\n",
              "    <path d=\"M120-120v-720h720v720H120Zm60-500h600v-160H180v160Zm220 220h160v-160H400v160Zm0 220h160v-160H400v160ZM180-400h160v-160H180v160Zm440 0h160v-160H620v160ZM180-180h160v-160H180v160Zm440 0h160v-160H620v160Z\"/>\n",
              "  </svg>\n",
              "    </button>\n",
              "\n",
              "  <style>\n",
              "    .colab-df-container {\n",
              "      display:flex;\n",
              "      gap: 12px;\n",
              "    }\n",
              "\n",
              "    .colab-df-convert {\n",
              "      background-color: #E8F0FE;\n",
              "      border: none;\n",
              "      border-radius: 50%;\n",
              "      cursor: pointer;\n",
              "      display: none;\n",
              "      fill: #1967D2;\n",
              "      height: 32px;\n",
              "      padding: 0 0 0 0;\n",
              "      width: 32px;\n",
              "    }\n",
              "\n",
              "    .colab-df-convert:hover {\n",
              "      background-color: #E2EBFA;\n",
              "      box-shadow: 0px 1px 2px rgba(60, 64, 67, 0.3), 0px 1px 3px 1px rgba(60, 64, 67, 0.15);\n",
              "      fill: #174EA6;\n",
              "    }\n",
              "\n",
              "    .colab-df-buttons div {\n",
              "      margin-bottom: 4px;\n",
              "    }\n",
              "\n",
              "    [theme=dark] .colab-df-convert {\n",
              "      background-color: #3B4455;\n",
              "      fill: #D2E3FC;\n",
              "    }\n",
              "\n",
              "    [theme=dark] .colab-df-convert:hover {\n",
              "      background-color: #434B5C;\n",
              "      box-shadow: 0px 1px 3px 1px rgba(0, 0, 0, 0.15);\n",
              "      filter: drop-shadow(0px 1px 2px rgba(0, 0, 0, 0.3));\n",
              "      fill: #FFFFFF;\n",
              "    }\n",
              "  </style>\n",
              "\n",
              "    <script>\n",
              "      const buttonEl =\n",
              "        document.querySelector('#df-973e2353-be98-4710-922b-1aecd3fd0d7a button.colab-df-convert');\n",
              "      buttonEl.style.display =\n",
              "        google.colab.kernel.accessAllowed ? 'block' : 'none';\n",
              "\n",
              "      async function convertToInteractive(key) {\n",
              "        const element = document.querySelector('#df-973e2353-be98-4710-922b-1aecd3fd0d7a');\n",
              "        const dataTable =\n",
              "          await google.colab.kernel.invokeFunction('convertToInteractive',\n",
              "                                                    [key], {});\n",
              "        if (!dataTable) return;\n",
              "\n",
              "        const docLinkHtml = 'Like what you see? Visit the ' +\n",
              "          '<a target=\"_blank\" href=https://colab.research.google.com/notebooks/data_table.ipynb>data table notebook</a>'\n",
              "          + ' to learn more about interactive tables.';\n",
              "        element.innerHTML = '';\n",
              "        dataTable['output_type'] = 'display_data';\n",
              "        await google.colab.output.renderOutput(dataTable, element);\n",
              "        const docLink = document.createElement('div');\n",
              "        docLink.innerHTML = docLinkHtml;\n",
              "        element.appendChild(docLink);\n",
              "      }\n",
              "    </script>\n",
              "  </div>\n",
              "\n",
              "\n",
              "<div id=\"df-0d855336-5784-415c-8f4c-1c127c7b3778\">\n",
              "  <button class=\"colab-df-quickchart\" onclick=\"quickchart('df-0d855336-5784-415c-8f4c-1c127c7b3778')\"\n",
              "            title=\"Suggest charts\"\n",
              "            style=\"display:none;\">\n",
              "\n",
              "<svg xmlns=\"http://www.w3.org/2000/svg\" height=\"24px\"viewBox=\"0 0 24 24\"\n",
              "     width=\"24px\">\n",
              "    <g>\n",
              "        <path d=\"M19 3H5c-1.1 0-2 .9-2 2v14c0 1.1.9 2 2 2h14c1.1 0 2-.9 2-2V5c0-1.1-.9-2-2-2zM9 17H7v-7h2v7zm4 0h-2V7h2v10zm4 0h-2v-4h2v4z\"/>\n",
              "    </g>\n",
              "</svg>\n",
              "  </button>\n",
              "\n",
              "<style>\n",
              "  .colab-df-quickchart {\n",
              "      --bg-color: #E8F0FE;\n",
              "      --fill-color: #1967D2;\n",
              "      --hover-bg-color: #E2EBFA;\n",
              "      --hover-fill-color: #174EA6;\n",
              "      --disabled-fill-color: #AAA;\n",
              "      --disabled-bg-color: #DDD;\n",
              "  }\n",
              "\n",
              "  [theme=dark] .colab-df-quickchart {\n",
              "      --bg-color: #3B4455;\n",
              "      --fill-color: #D2E3FC;\n",
              "      --hover-bg-color: #434B5C;\n",
              "      --hover-fill-color: #FFFFFF;\n",
              "      --disabled-bg-color: #3B4455;\n",
              "      --disabled-fill-color: #666;\n",
              "  }\n",
              "\n",
              "  .colab-df-quickchart {\n",
              "    background-color: var(--bg-color);\n",
              "    border: none;\n",
              "    border-radius: 50%;\n",
              "    cursor: pointer;\n",
              "    display: none;\n",
              "    fill: var(--fill-color);\n",
              "    height: 32px;\n",
              "    padding: 0;\n",
              "    width: 32px;\n",
              "  }\n",
              "\n",
              "  .colab-df-quickchart:hover {\n",
              "    background-color: var(--hover-bg-color);\n",
              "    box-shadow: 0 1px 2px rgba(60, 64, 67, 0.3), 0 1px 3px 1px rgba(60, 64, 67, 0.15);\n",
              "    fill: var(--button-hover-fill-color);\n",
              "  }\n",
              "\n",
              "  .colab-df-quickchart-complete:disabled,\n",
              "  .colab-df-quickchart-complete:disabled:hover {\n",
              "    background-color: var(--disabled-bg-color);\n",
              "    fill: var(--disabled-fill-color);\n",
              "    box-shadow: none;\n",
              "  }\n",
              "\n",
              "  .colab-df-spinner {\n",
              "    border: 2px solid var(--fill-color);\n",
              "    border-color: transparent;\n",
              "    border-bottom-color: var(--fill-color);\n",
              "    animation:\n",
              "      spin 1s steps(1) infinite;\n",
              "  }\n",
              "\n",
              "  @keyframes spin {\n",
              "    0% {\n",
              "      border-color: transparent;\n",
              "      border-bottom-color: var(--fill-color);\n",
              "      border-left-color: var(--fill-color);\n",
              "    }\n",
              "    20% {\n",
              "      border-color: transparent;\n",
              "      border-left-color: var(--fill-color);\n",
              "      border-top-color: var(--fill-color);\n",
              "    }\n",
              "    30% {\n",
              "      border-color: transparent;\n",
              "      border-left-color: var(--fill-color);\n",
              "      border-top-color: var(--fill-color);\n",
              "      border-right-color: var(--fill-color);\n",
              "    }\n",
              "    40% {\n",
              "      border-color: transparent;\n",
              "      border-right-color: var(--fill-color);\n",
              "      border-top-color: var(--fill-color);\n",
              "    }\n",
              "    60% {\n",
              "      border-color: transparent;\n",
              "      border-right-color: var(--fill-color);\n",
              "    }\n",
              "    80% {\n",
              "      border-color: transparent;\n",
              "      border-right-color: var(--fill-color);\n",
              "      border-bottom-color: var(--fill-color);\n",
              "    }\n",
              "    90% {\n",
              "      border-color: transparent;\n",
              "      border-bottom-color: var(--fill-color);\n",
              "    }\n",
              "  }\n",
              "</style>\n",
              "\n",
              "  <script>\n",
              "    async function quickchart(key) {\n",
              "      const quickchartButtonEl =\n",
              "        document.querySelector('#' + key + ' button');\n",
              "      quickchartButtonEl.disabled = true;  // To prevent multiple clicks.\n",
              "      quickchartButtonEl.classList.add('colab-df-spinner');\n",
              "      try {\n",
              "        const charts = await google.colab.kernel.invokeFunction(\n",
              "            'suggestCharts', [key], {});\n",
              "      } catch (error) {\n",
              "        console.error('Error during call to suggestCharts:', error);\n",
              "      }\n",
              "      quickchartButtonEl.classList.remove('colab-df-spinner');\n",
              "      quickchartButtonEl.classList.add('colab-df-quickchart-complete');\n",
              "    }\n",
              "    (() => {\n",
              "      let quickchartButtonEl =\n",
              "        document.querySelector('#df-0d855336-5784-415c-8f4c-1c127c7b3778 button');\n",
              "      quickchartButtonEl.style.display =\n",
              "        google.colab.kernel.accessAllowed ? 'block' : 'none';\n",
              "    })();\n",
              "  </script>\n",
              "</div>\n",
              "    </div>\n",
              "  </div>\n"
            ]
          },
          "metadata": {},
          "execution_count": 168
        }
      ]
    },
    {
      "cell_type": "markdown",
      "source": [
        "**This dataset classifies music into four moods: sad, happy, energetic and calm, with the total number of tracks being 686**"
      ],
      "metadata": {
        "id": "NJT9QSE4bpsW"
      }
    },
    {
      "cell_type": "code",
      "source": [
        "df2 = pd.unique(df['mood'].values.ravel())\n",
        "print(\"Unique values in the 'mood' column:\\n\",df2)"
      ],
      "metadata": {
        "id": "t-ExJfwy3rsM",
        "outputId": "2dc55124-c067-4d52-9882-408416ad41d7",
        "colab": {
          "base_uri": "https://localhost:8080/"
        }
      },
      "execution_count": 169,
      "outputs": [
        {
          "output_type": "stream",
          "name": "stdout",
          "text": [
            "Unique values in the 'mood' column:\n",
            " ['Happy' 'Sad' 'Energetic' 'Calm']\n"
          ]
        }
      ]
    },
    {
      "cell_type": "code",
      "source": [
        "category_counts = df['mood'].value_counts()\n",
        "colors = ['lightblue', 'lightgreen','lightcoral', 'lightyellow']\n",
        "ax = category_counts.plot(kind='bar', color=colors, edgecolor='black')\n",
        "for i, v in enumerate(category_counts):\n",
        "    ax.text(i, v + 0.1, str(v), ha='center', va='bottom')\n",
        "plt.title('Number of tracks labeled in each mood')\n",
        "plt.xlabel('Mood')\n",
        "plt.ylabel('Count')\n",
        "plt.show()"
      ],
      "metadata": {
        "colab": {
          "base_uri": "https://localhost:8080/",
          "height": 538
        },
        "id": "mcSx_oiNcU-4",
        "outputId": "49a5d435-f17c-49d1-d8b6-f71e0157a67d"
      },
      "execution_count": 170,
      "outputs": [
        {
          "output_type": "display_data",
          "data": {
            "text/plain": [
              "<Figure size 640x480 with 1 Axes>"
            ],
            "image/png": "[encoded data removed]"
          },
          "metadata": {}
        }
      ]
    },
    {
      "cell_type": "markdown",
      "source": [
        "**It is also shown that there are no null values in the dataset that needs to be handled**"
      ],
      "metadata": {
        "id": "OsGY_fCq4qBl"
      }
    },
    {
      "cell_type": "code",
      "source": [
        "df.info()"
      ],
      "metadata": {
        "colab": {
          "base_uri": "https://localhost:8080/"
        },
        "id": "211TccZSp4hs",
        "outputId": "3406b343-5d79-4ac6-adcd-96a0d2987ca5"
      },
      "execution_count": 171,
      "outputs": [
        {
          "output_type": "stream",
          "name": "stdout",
          "text": [
            "<class 'pandas.core.frame.DataFrame'>\n",
            "RangeIndex: 686 entries, 0 to 685\n",
            "Data columns (total 19 columns):\n",
            " #   Column            Non-Null Count  Dtype  \n",
            "---  ------            --------------  -----  \n",
            " 0   name              686 non-null    object \n",
            " 1   album             686 non-null    object \n",
            " 2   artist            686 non-null    object \n",
            " 3   id                686 non-null    object \n",
            " 4   release_date      686 non-null    object \n",
            " 5   popularity        686 non-null    int64  \n",
            " 6   length            686 non-null    int64  \n",
            " 7   danceability      686 non-null    float64\n",
            " 8   acousticness      686 non-null    float64\n",
            " 9   energy            686 non-null    float64\n",
            " 10  instrumentalness  686 non-null    float64\n",
            " 11  liveness          686 non-null    float64\n",
            " 12  valence           686 non-null    float64\n",
            " 13  loudness          686 non-null    float64\n",
            " 14  speechiness       686 non-null    float64\n",
            " 15  tempo             686 non-null    float64\n",
            " 16  key               686 non-null    int64  \n",
            " 17  time_signature    686 non-null    int64  \n",
            " 18  mood              686 non-null    object \n",
            "dtypes: float64(9), int64(4), object(6)\n",
            "memory usage: 102.0+ KB\n"
          ]
        }
      ]
    },
    {
      "cell_type": "code",
      "source": [
        "df.isnull().sum()"
      ],
      "metadata": {
        "colab": {
          "base_uri": "https://localhost:8080/"
        },
        "id": "P7dD6Z4sqZmZ",
        "outputId": "6bc3a3cc-1b15-40b6-c4e1-b76f57c523e4"
      },
      "execution_count": 172,
      "outputs": [
        {
          "output_type": "execute_result",
          "data": {
            "text/plain": [
              "name                0\n",
              "album               0\n",
              "artist              0\n",
              "id                  0\n",
              "release_date        0\n",
              "popularity          0\n",
              "length              0\n",
              "danceability        0\n",
              "acousticness        0\n",
              "energy              0\n",
              "instrumentalness    0\n",
              "liveness            0\n",
              "valence             0\n",
              "loudness            0\n",
              "speechiness         0\n",
              "tempo               0\n",
              "key                 0\n",
              "time_signature      0\n",
              "mood                0\n",
              "dtype: int64"
            ]
          },
          "metadata": {},
          "execution_count": 172
        }
      ]
    },
    {
      "cell_type": "markdown",
      "source": [
        "**Doing  a simple analysis we can look at the mean value of all our attributes for each mood:**"
      ],
      "metadata": {
        "id": "MPnbA7Mk414-"
      }
    },
    {
      "cell_type": "code",
      "source": [
        "numeric_columns = df.select_dtypes(include='number')\n",
        "\n",
        "mean_values = numeric_columns.groupby(df['mood']).mean()\n",
        "\n",
        "print(mean_values)"
      ],
      "metadata": {
        "colab": {
          "base_uri": "https://localhost:8080/"
        },
        "id": "LT3VMEQBxLfS",
        "outputId": "ae11b038-f6c1-406f-8c3b-a2f310b17289"
      },
      "execution_count": 173,
      "outputs": [
        {
          "output_type": "stream",
          "name": "stdout",
          "text": [
            "           popularity         length  danceability  acousticness    energy  \\\n",
            "mood                                                                         \n",
            "Calm        40.261538  193977.061538      0.406815      0.883348  0.156325   \n",
            "Energetic   41.603896  215779.948052      0.512240      0.028229  0.883669   \n",
            "Happy       48.585714  230963.850000      0.622914      0.127849  0.751857   \n",
            "Sad         37.730964  247504.472081      0.497245      0.578826  0.388068   \n",
            "\n",
            "           instrumentalness  liveness   valence   loudness  speechiness  \\\n",
            "mood                                                                      \n",
            "Calm               0.890769  0.115418  0.151421 -20.955826     0.040742   \n",
            "Energetic          0.056607  0.233897  0.437049  -4.695844     0.079170   \n",
            "Happy              0.126103  0.201682  0.579095  -7.275750     0.061774   \n",
            "Sad                0.201832  0.140655  0.289372 -10.569183     0.041736   \n",
            "\n",
            "                tempo       key  time_signature  \n",
            "mood                                             \n",
            "Calm       108.851215  5.441026        3.758974  \n",
            "Energetic  132.060636  5.123377        3.974026  \n",
            "Happy      124.213679  5.078571        3.964286  \n",
            "Sad        115.599746  5.578680        3.832487  \n"
          ]
        }
      ]
    },
    {
      "cell_type": "markdown",
      "source": [
        "\n",
        "**As shown in the above data:**\n",
        "\n",
        "\n",
        "* Happy mood has the highest average danceability, followed by Energetic, Sad, and Calm\n",
        "\n",
        "* Calm mood has the highest average acousticness, indicating a tendency towards more acoustic or less electronic sounds. Energetic has the lowest average acousticness\n",
        "\n",
        "* Energetic mood has the highest average energy, suggesting more lively and energetic tracks. Calm has the lowest energy\n",
        "\n",
        "* Calm mood has the highest average instrumentalness, suggesting a tendency towards instrumental tracks. Energetic has the lowest average instrumentalness\n",
        "\n",
        "* Happy mood has the highest average valence, representing the musical positiveness. Sad has the lowest valence\n",
        "\n",
        "* Calm mood has the lowest average loudness, while Energetic has the highest, indicating a preference for louder tracks in the Energetic mood\n",
        "\n"
      ],
      "metadata": {
        "id": "U9iAjaUe8RGv"
      }
    },
    {
      "cell_type": "markdown",
      "source": [
        "# Data Preparation"
      ],
      "metadata": {
        "id": "HSxACqxEKHBa"
      }
    },
    {
      "cell_type": "markdown",
      "source": [
        "As mentioned before, we want to study the relationship between mood and music features so we want to exclude attributes that will not be relevant to our mood prediction model.\n",
        "Attributes that are not directly a musical acoustic feature will be removed like the track name, id, album name, artist, release date, popularity, length and time signature."
      ],
      "metadata": {
        "id": "joF_RE4wymgU"
      }
    },
    {
      "cell_type": "code",
      "source": [
        "df.drop(['name', 'album','artist','id','release_date','popularity','length','liveness','time_signature'], axis=1, inplace = True)\n",
        "df.head()"
      ],
      "metadata": {
        "colab": {
          "base_uri": "https://localhost:8080/",
          "height": 206
        },
        "id": "cGMZdJi_1a06",
        "outputId": "23bee688-380e-409f-a9e2-ffe43401b521"
      },
      "execution_count": 174,
      "outputs": [
        {
          "output_type": "execute_result",
          "data": {
            "text/plain": [
              "   danceability  acousticness  energy  instrumentalness  valence  loudness  \\\n",
              "0         0.866       0.13700   0.730          0.000000    0.625    -8.201   \n",
              "1         0.381       0.01890   0.832          0.196000    0.166    -5.069   \n",
              "2         0.346       0.91300   0.139          0.000077    0.116   -15.326   \n",
              "3         0.466       0.08900   0.438          0.000006    0.587   -12.858   \n",
              "4         0.419       0.00171   0.932          0.000000    0.445    -3.604   \n",
              "\n",
              "   speechiness    tempo  key       mood  \n",
              "0       0.0767  118.523    5      Happy  \n",
              "1       0.0492  120.255    8        Sad  \n",
              "2       0.0321  136.168    0        Sad  \n",
              "3       0.0608  193.100    4      Happy  \n",
              "4       0.1060  169.881    1  Energetic  "
            ],
            "text/html": [
              "\n",
              "  <div id=\"df-d498865c-65f3-47e1-a793-bce34ee304b8\" class=\"colab-df-container\">\n",
              "    <div>\n",
              "<style scoped>\n",
              "    .dataframe tbody tr th:only-of-type {\n",
              "        vertical-align: middle;\n",
              "    }\n",
              "\n",
              "    .dataframe tbody tr th {\n",
              "        vertical-align: top;\n",
              "    }\n",
              "\n",
              "    .dataframe thead th {\n",
              "        text-align: right;\n",
              "    }\n",
              "</style>\n",
              "<table border=\"1\" class=\"dataframe\">\n",
              "  <thead>\n",
              "    <tr style=\"text-align: right;\">\n",
              "      <th></th>\n",
              "      <th>danceability</th>\n",
              "      <th>acousticness</th>\n",
              "      <th>energy</th>\n",
              "      <th>instrumentalness</th>\n",
              "      <th>valence</th>\n",
              "      <th>loudness</th>\n",
              "      <th>speechiness</th>\n",
              "      <th>tempo</th>\n",
              "      <th>key</th>\n",
              "      <th>mood</th>\n",
              "    </tr>\n",
              "  </thead>\n",
              "  <tbody>\n",
              "    <tr>\n",
              "      <th>0</th>\n",
              "      <td>0.866</td>\n",
              "      <td>0.13700</td>\n",
              "      <td>0.730</td>\n",
              "      <td>0.000000</td>\n",
              "      <td>0.625</td>\n",
              "      <td>-8.201</td>\n",
              "      <td>0.0767</td>\n",
              "      <td>118.523</td>\n",
              "      <td>5</td>\n",
              "      <td>Happy</td>\n",
              "    </tr>\n",
              "    <tr>\n",
              "      <th>1</th>\n",
              "      <td>0.381</td>\n",
              "      <td>0.01890</td>\n",
              "      <td>0.832</td>\n",
              "      <td>0.196000</td>\n",
              "      <td>0.166</td>\n",
              "      <td>-5.069</td>\n",
              "      <td>0.0492</td>\n",
              "      <td>120.255</td>\n",
              "      <td>8</td>\n",
              "      <td>Sad</td>\n",
              "    </tr>\n",
              "    <tr>\n",
              "      <th>2</th>\n",
              "      <td>0.346</td>\n",
              "      <td>0.91300</td>\n",
              "      <td>0.139</td>\n",
              "      <td>0.000077</td>\n",
              "      <td>0.116</td>\n",
              "      <td>-15.326</td>\n",
              "      <td>0.0321</td>\n",
              "      <td>136.168</td>\n",
              "      <td>0</td>\n",
              "      <td>Sad</td>\n",
              "    </tr>\n",
              "    <tr>\n",
              "      <th>3</th>\n",
              "      <td>0.466</td>\n",
              "      <td>0.08900</td>\n",
              "      <td>0.438</td>\n",
              "      <td>0.000006</td>\n",
              "      <td>0.587</td>\n",
              "      <td>-12.858</td>\n",
              "      <td>0.0608</td>\n",
              "      <td>193.100</td>\n",
              "      <td>4</td>\n",
              "      <td>Happy</td>\n",
              "    </tr>\n",
              "    <tr>\n",
              "      <th>4</th>\n",
              "      <td>0.419</td>\n",
              "      <td>0.00171</td>\n",
              "      <td>0.932</td>\n",
              "      <td>0.000000</td>\n",
              "      <td>0.445</td>\n",
              "      <td>-3.604</td>\n",
              "      <td>0.1060</td>\n",
              "      <td>169.881</td>\n",
              "      <td>1</td>\n",
              "      <td>Energetic</td>\n",
              "    </tr>\n",
              "  </tbody>\n",
              "</table>\n",
              "</div>\n",
              "    <div class=\"colab-df-buttons\">\n",
              "\n",
              "  <div class=\"colab-df-container\">\n",
              "    <button class=\"colab-df-convert\" onclick=\"convertToInteractive('df-d498865c-65f3-47e1-a793-bce34ee304b8')\"\n",
              "            title=\"Convert this dataframe to an interactive table.\"\n",
              "            style=\"display:none;\">\n",
              "\n",
              "  <svg xmlns=\"http://www.w3.org/2000/svg\" height=\"24px\" viewBox=\"0 -960 960 960\">\n",
              "    <path d=\"M120-120v-720h720v720H120Zm60-500h600v-160H180v160Zm220 220h160v-160H400v160Zm0 220h160v-160H400v160ZM180-400h160v-160H180v160Zm440 0h160v-160H620v160ZM180-180h160v-160H180v160Zm440 0h160v-160H620v160Z\"/>\n",
              "  </svg>\n",
              "    </button>\n",
              "\n",
              "  <style>\n",
              "    .colab-df-container {\n",
              "      display:flex;\n",
              "      gap: 12px;\n",
              "    }\n",
              "\n",
              "    .colab-df-convert {\n",
              "      background-color: #E8F0FE;\n",
              "      border: none;\n",
              "      border-radius: 50%;\n",
              "      cursor: pointer;\n",
              "      display: none;\n",
              "      fill: #1967D2;\n",
              "      height: 32px;\n",
              "      padding: 0 0 0 0;\n",
              "      width: 32px;\n",
              "    }\n",
              "\n",
              "    .colab-df-convert:hover {\n",
              "      background-color: #E2EBFA;\n",
              "      box-shadow: 0px 1px 2px rgba(60, 64, 67, 0.3), 0px 1px 3px 1px rgba(60, 64, 67, 0.15);\n",
              "      fill: #174EA6;\n",
              "    }\n",
              "\n",
              "    .colab-df-buttons div {\n",
              "      margin-bottom: 4px;\n",
              "    }\n",
              "\n",
              "    [theme=dark] .colab-df-convert {\n",
              "      background-color: #3B4455;\n",
              "      fill: #D2E3FC;\n",
              "    }\n",
              "\n",
              "    [theme=dark] .colab-df-convert:hover {\n",
              "      background-color: #434B5C;\n",
              "      box-shadow: 0px 1px 3px 1px rgba(0, 0, 0, 0.15);\n",
              "      filter: drop-shadow(0px 1px 2px rgba(0, 0, 0, 0.3));\n",
              "      fill: #FFFFFF;\n",
              "    }\n",
              "  </style>\n",
              "\n",
              "    <script>\n",
              "      const buttonEl =\n",
              "        document.querySelector('#df-d498865c-65f3-47e1-a793-bce34ee304b8 button.colab-df-convert');\n",
              "      buttonEl.style.display =\n",
              "        google.colab.kernel.accessAllowed ? 'block' : 'none';\n",
              "\n",
              "      async function convertToInteractive(key) {\n",
              "        const element = document.querySelector('#df-d498865c-65f3-47e1-a793-bce34ee304b8');\n",
              "        const dataTable =\n",
              "          await google.colab.kernel.invokeFunction('convertToInteractive',\n",
              "                                                    [key], {});\n",
              "        if (!dataTable) return;\n",
              "\n",
              "        const docLinkHtml = 'Like what you see? Visit the ' +\n",
              "          '<a target=\"_blank\" href=https://colab.research.google.com/notebooks/data_table.ipynb>data table notebook</a>'\n",
              "          + ' to learn more about interactive tables.';\n",
              "        element.innerHTML = '';\n",
              "        dataTable['output_type'] = 'display_data';\n",
              "        await google.colab.output.renderOutput(dataTable, element);\n",
              "        const docLink = document.createElement('div');\n",
              "        docLink.innerHTML = docLinkHtml;\n",
              "        element.appendChild(docLink);\n",
              "      }\n",
              "    </script>\n",
              "  </div>\n",
              "\n",
              "\n",
              "<div id=\"df-7655f3a7-2b4d-4598-8dab-6ef65aa98c4f\">\n",
              "  <button class=\"colab-df-quickchart\" onclick=\"quickchart('df-7655f3a7-2b4d-4598-8dab-6ef65aa98c4f')\"\n",
              "            title=\"Suggest charts\"\n",
              "            style=\"display:none;\">\n",
              "\n",
              "<svg xmlns=\"http://www.w3.org/2000/svg\" height=\"24px\"viewBox=\"0 0 24 24\"\n",
              "     width=\"24px\">\n",
              "    <g>\n",
              "        <path d=\"M19 3H5c-1.1 0-2 .9-2 2v14c0 1.1.9 2 2 2h14c1.1 0 2-.9 2-2V5c0-1.1-.9-2-2-2zM9 17H7v-7h2v7zm4 0h-2V7h2v10zm4 0h-2v-4h2v4z\"/>\n",
              "    </g>\n",
              "</svg>\n",
              "  </button>\n",
              "\n",
              "<style>\n",
              "  .colab-df-quickchart {\n",
              "      --bg-color: #E8F0FE;\n",
              "      --fill-color: #1967D2;\n",
              "      --hover-bg-color: #E2EBFA;\n",
              "      --hover-fill-color: #174EA6;\n",
              "      --disabled-fill-color: #AAA;\n",
              "      --disabled-bg-color: #DDD;\n",
              "  }\n",
              "\n",
              "  [theme=dark] .colab-df-quickchart {\n",
              "      --bg-color: #3B4455;\n",
              "      --fill-color: #D2E3FC;\n",
              "      --hover-bg-color: #434B5C;\n",
              "      --hover-fill-color: #FFFFFF;\n",
              "      --disabled-bg-color: #3B4455;\n",
              "      --disabled-fill-color: #666;\n",
              "  }\n",
              "\n",
              "  .colab-df-quickchart {\n",
              "    background-color: var(--bg-color);\n",
              "    border: none;\n",
              "    border-radius: 50%;\n",
              "    cursor: pointer;\n",
              "    display: none;\n",
              "    fill: var(--fill-color);\n",
              "    height: 32px;\n",
              "    padding: 0;\n",
              "    width: 32px;\n",
              "  }\n",
              "\n",
              "  .colab-df-quickchart:hover {\n",
              "    background-color: var(--hover-bg-color);\n",
              "    box-shadow: 0 1px 2px rgba(60, 64, 67, 0.3), 0 1px 3px 1px rgba(60, 64, 67, 0.15);\n",
              "    fill: var(--button-hover-fill-color);\n",
              "  }\n",
              "\n",
              "  .colab-df-quickchart-complete:disabled,\n",
              "  .colab-df-quickchart-complete:disabled:hover {\n",
              "    background-color: var(--disabled-bg-color);\n",
              "    fill: var(--disabled-fill-color);\n",
              "    box-shadow: none;\n",
              "  }\n",
              "\n",
              "  .colab-df-spinner {\n",
              "    border: 2px solid var(--fill-color);\n",
              "    border-color: transparent;\n",
              "    border-bottom-color: var(--fill-color);\n",
              "    animation:\n",
              "      spin 1s steps(1) infinite;\n",
              "  }\n",
              "\n",
              "  @keyframes spin {\n",
              "    0% {\n",
              "      border-color: transparent;\n",
              "      border-bottom-color: var(--fill-color);\n",
              "      border-left-color: var(--fill-color);\n",
              "    }\n",
              "    20% {\n",
              "      border-color: transparent;\n",
              "      border-left-color: var(--fill-color);\n",
              "      border-top-color: var(--fill-color);\n",
              "    }\n",
              "    30% {\n",
              "      border-color: transparent;\n",
              "      border-left-color: var(--fill-color);\n",
              "      border-top-color: var(--fill-color);\n",
              "      border-right-color: var(--fill-color);\n",
              "    }\n",
              "    40% {\n",
              "      border-color: transparent;\n",
              "      border-right-color: var(--fill-color);\n",
              "      border-top-color: var(--fill-color);\n",
              "    }\n",
              "    60% {\n",
              "      border-color: transparent;\n",
              "      border-right-color: var(--fill-color);\n",
              "    }\n",
              "    80% {\n",
              "      border-color: transparent;\n",
              "      border-right-color: var(--fill-color);\n",
              "      border-bottom-color: var(--fill-color);\n",
              "    }\n",
              "    90% {\n",
              "      border-color: transparent;\n",
              "      border-bottom-color: var(--fill-color);\n",
              "    }\n",
              "  }\n",
              "</style>\n",
              "\n",
              "  <script>\n",
              "    async function quickchart(key) {\n",
              "      const quickchartButtonEl =\n",
              "        document.querySelector('#' + key + ' button');\n",
              "      quickchartButtonEl.disabled = true;  // To prevent multiple clicks.\n",
              "      quickchartButtonEl.classList.add('colab-df-spinner');\n",
              "      try {\n",
              "        const charts = await google.colab.kernel.invokeFunction(\n",
              "            'suggestCharts', [key], {});\n",
              "      } catch (error) {\n",
              "        console.error('Error during call to suggestCharts:', error);\n",
              "      }\n",
              "      quickchartButtonEl.classList.remove('colab-df-spinner');\n",
              "      quickchartButtonEl.classList.add('colab-df-quickchart-complete');\n",
              "    }\n",
              "    (() => {\n",
              "      let quickchartButtonEl =\n",
              "        document.querySelector('#df-7655f3a7-2b4d-4598-8dab-6ef65aa98c4f button');\n",
              "      quickchartButtonEl.style.display =\n",
              "        google.colab.kernel.accessAllowed ? 'block' : 'none';\n",
              "    })();\n",
              "  </script>\n",
              "</div>\n",
              "    </div>\n",
              "  </div>\n"
            ]
          },
          "metadata": {},
          "execution_count": 174
        }
      ]
    },
    {
      "cell_type": "markdown",
      "source": [
        "**There are also no duplicate values nor missing values**"
      ],
      "metadata": {
        "id": "sz7KpBc0_yDf"
      }
    },
    {
      "cell_type": "code",
      "source": [
        "num_duplicates = df.duplicated().sum()\n",
        "num_null = df.isnull().sum()\n",
        "print(f\"\\nNumber of Duplicate Rows: {num_duplicates}\")\n",
        "print(f\"\\nNumber of Null Values: \\n{num_null}\")\n"
      ],
      "metadata": {
        "colab": {
          "base_uri": "https://localhost:8080/"
        },
        "id": "46BOwoYL4CIJ",
        "outputId": "36e5d01f-7bcb-4117-e731-846582666ff2"
      },
      "execution_count": 175,
      "outputs": [
        {
          "output_type": "stream",
          "name": "stdout",
          "text": [
            "\n",
            "Number of Duplicate Rows: 0\n",
            "\n",
            "Number of Null Values: \n",
            "danceability        0\n",
            "acousticness        0\n",
            "energy              0\n",
            "instrumentalness    0\n",
            "valence             0\n",
            "loudness            0\n",
            "speechiness         0\n",
            "tempo               0\n",
            "key                 0\n",
            "mood                0\n",
            "dtype: int64\n"
          ]
        }
      ]
    },
    {
      "cell_type": "markdown",
      "source": [
        "# Modeling"
      ],
      "metadata": {
        "id": "3XZTXiDNYJb_"
      }
    },
    {
      "cell_type": "markdown",
      "source": [
        "# Random Forest Model"
      ],
      "metadata": {
        "id": "gItW1tFLmHTc"
      }
    },
    {
      "cell_type": "code",
      "source": [
        "features = df\n",
        "features.head()"
      ],
      "metadata": {
        "id": "QQ4Q9vMz9VWK",
        "colab": {
          "base_uri": "https://localhost:8080/",
          "height": 206
        },
        "outputId": "7071876c-aa9c-4cc8-a55a-26849b1a5eea"
      },
      "execution_count": 176,
      "outputs": [
        {
          "output_type": "execute_result",
          "data": {
            "text/plain": [
              "   danceability  acousticness  energy  instrumentalness  valence  loudness  \\\n",
              "0         0.866       0.13700   0.730          0.000000    0.625    -8.201   \n",
              "1         0.381       0.01890   0.832          0.196000    0.166    -5.069   \n",
              "2         0.346       0.91300   0.139          0.000077    0.116   -15.326   \n",
              "3         0.466       0.08900   0.438          0.000006    0.587   -12.858   \n",
              "4         0.419       0.00171   0.932          0.000000    0.445    -3.604   \n",
              "\n",
              "   speechiness    tempo  key       mood  \n",
              "0       0.0767  118.523    5      Happy  \n",
              "1       0.0492  120.255    8        Sad  \n",
              "2       0.0321  136.168    0        Sad  \n",
              "3       0.0608  193.100    4      Happy  \n",
              "4       0.1060  169.881    1  Energetic  "
            ],
            "text/html": [
              "\n",
              "  <div id=\"df-0b44f6aa-df87-4e48-909a-7287adccf9ed\" class=\"colab-df-container\">\n",
              "    <div>\n",
              "<style scoped>\n",
              "    .dataframe tbody tr th:only-of-type {\n",
              "        vertical-align: middle;\n",
              "    }\n",
              "\n",
              "    .dataframe tbody tr th {\n",
              "        vertical-align: top;\n",
              "    }\n",
              "\n",
              "    .dataframe thead th {\n",
              "        text-align: right;\n",
              "    }\n",
              "</style>\n",
              "<table border=\"1\" class=\"dataframe\">\n",
              "  <thead>\n",
              "    <tr style=\"text-align: right;\">\n",
              "      <th></th>\n",
              "      <th>danceability</th>\n",
              "      <th>acousticness</th>\n",
              "      <th>energy</th>\n",
              "      <th>instrumentalness</th>\n",
              "      <th>valence</th>\n",
              "      <th>loudness</th>\n",
              "      <th>speechiness</th>\n",
              "      <th>tempo</th>\n",
              "      <th>key</th>\n",
              "      <th>mood</th>\n",
              "    </tr>\n",
              "  </thead>\n",
              "  <tbody>\n",
              "    <tr>\n",
              "      <th>0</th>\n",
              "      <td>0.866</td>\n",
              "      <td>0.13700</td>\n",
              "      <td>0.730</td>\n",
              "      <td>0.000000</td>\n",
              "      <td>0.625</td>\n",
              "      <td>-8.201</td>\n",
              "      <td>0.0767</td>\n",
              "      <td>118.523</td>\n",
              "      <td>5</td>\n",
              "      <td>Happy</td>\n",
              "    </tr>\n",
              "    <tr>\n",
              "      <th>1</th>\n",
              "      <td>0.381</td>\n",
              "      <td>0.01890</td>\n",
              "      <td>0.832</td>\n",
              "      <td>0.196000</td>\n",
              "      <td>0.166</td>\n",
              "      <td>-5.069</td>\n",
              "      <td>0.0492</td>\n",
              "      <td>120.255</td>\n",
              "      <td>8</td>\n",
              "      <td>Sad</td>\n",
              "    </tr>\n",
              "    <tr>\n",
              "      <th>2</th>\n",
              "      <td>0.346</td>\n",
              "      <td>0.91300</td>\n",
              "      <td>0.139</td>\n",
              "      <td>0.000077</td>\n",
              "      <td>0.116</td>\n",
              "      <td>-15.326</td>\n",
              "      <td>0.0321</td>\n",
              "      <td>136.168</td>\n",
              "      <td>0</td>\n",
              "      <td>Sad</td>\n",
              "    </tr>\n",
              "    <tr>\n",
              "      <th>3</th>\n",
              "      <td>0.466</td>\n",
              "      <td>0.08900</td>\n",
              "      <td>0.438</td>\n",
              "      <td>0.000006</td>\n",
              "      <td>0.587</td>\n",
              "      <td>-12.858</td>\n",
              "      <td>0.0608</td>\n",
              "      <td>193.100</td>\n",
              "      <td>4</td>\n",
              "      <td>Happy</td>\n",
              "    </tr>\n",
              "    <tr>\n",
              "      <th>4</th>\n",
              "      <td>0.419</td>\n",
              "      <td>0.00171</td>\n",
              "      <td>0.932</td>\n",
              "      <td>0.000000</td>\n",
              "      <td>0.445</td>\n",
              "      <td>-3.604</td>\n",
              "      <td>0.1060</td>\n",
              "      <td>169.881</td>\n",
              "      <td>1</td>\n",
              "      <td>Energetic</td>\n",
              "    </tr>\n",
              "  </tbody>\n",
              "</table>\n",
              "</div>\n",
              "    <div class=\"colab-df-buttons\">\n",
              "\n",
              "  <div class=\"colab-df-container\">\n",
              "    <button class=\"colab-df-convert\" onclick=\"convertToInteractive('df-0b44f6aa-df87-4e48-909a-7287adccf9ed')\"\n",
              "            title=\"Convert this dataframe to an interactive table.\"\n",
              "            style=\"display:none;\">\n",
              "\n",
              "  <svg xmlns=\"http://www.w3.org/2000/svg\" height=\"24px\" viewBox=\"0 -960 960 960\">\n",
              "    <path d=\"M120-120v-720h720v720H120Zm60-500h600v-160H180v160Zm220 220h160v-160H400v160Zm0 220h160v-160H400v160ZM180-400h160v-160H180v160Zm440 0h160v-160H620v160ZM180-180h160v-160H180v160Zm440 0h160v-160H620v160Z\"/>\n",
              "  </svg>\n",
              "    </button>\n",
              "\n",
              "  <style>\n",
              "    .colab-df-container {\n",
              "      display:flex;\n",
              "      gap: 12px;\n",
              "    }\n",
              "\n",
              "    .colab-df-convert {\n",
              "      background-color: #E8F0FE;\n",
              "      border: none;\n",
              "      border-radius: 50%;\n",
              "      cursor: pointer;\n",
              "      display: none;\n",
              "      fill: #1967D2;\n",
              "      height: 32px;\n",
              "      padding: 0 0 0 0;\n",
              "      width: 32px;\n",
              "    }\n",
              "\n",
              "    .colab-df-convert:hover {\n",
              "      background-color: #E2EBFA;\n",
              "      box-shadow: 0px 1px 2px rgba(60, 64, 67, 0.3), 0px 1px 3px 1px rgba(60, 64, 67, 0.15);\n",
              "      fill: #174EA6;\n",
              "    }\n",
              "\n",
              "    .colab-df-buttons div {\n",
              "      margin-bottom: 4px;\n",
              "    }\n",
              "\n",
              "    [theme=dark] .colab-df-convert {\n",
              "      background-color: #3B4455;\n",
              "      fill: #D2E3FC;\n",
              "    }\n",
              "\n",
              "    [theme=dark] .colab-df-convert:hover {\n",
              "      background-color: #434B5C;\n",
              "      box-shadow: 0px 1px 3px 1px rgba(0, 0, 0, 0.15);\n",
              "      filter: drop-shadow(0px 1px 2px rgba(0, 0, 0, 0.3));\n",
              "      fill: #FFFFFF;\n",
              "    }\n",
              "  </style>\n",
              "\n",
              "    <script>\n",
              "      const buttonEl =\n",
              "        document.querySelector('#df-0b44f6aa-df87-4e48-909a-7287adccf9ed button.colab-df-convert');\n",
              "      buttonEl.style.display =\n",
              "        google.colab.kernel.accessAllowed ? 'block' : 'none';\n",
              "\n",
              "      async function convertToInteractive(key) {\n",
              "        const element = document.querySelector('#df-0b44f6aa-df87-4e48-909a-7287adccf9ed');\n",
              "        const dataTable =\n",
              "          await google.colab.kernel.invokeFunction('convertToInteractive',\n",
              "                                                    [key], {});\n",
              "        if (!dataTable) return;\n",
              "\n",
              "        const docLinkHtml = 'Like what you see? Visit the ' +\n",
              "          '<a target=\"_blank\" href=https://colab.research.google.com/notebooks/data_table.ipynb>data table notebook</a>'\n",
              "          + ' to learn more about interactive tables.';\n",
              "        element.innerHTML = '';\n",
              "        dataTable['output_type'] = 'display_data';\n",
              "        await google.colab.output.renderOutput(dataTable, element);\n",
              "        const docLink = document.createElement('div');\n",
              "        docLink.innerHTML = docLinkHtml;\n",
              "        element.appendChild(docLink);\n",
              "      }\n",
              "    </script>\n",
              "  </div>\n",
              "\n",
              "\n",
              "<div id=\"df-f1431d22-6532-46b1-bec4-8f12fa8c8f97\">\n",
              "  <button class=\"colab-df-quickchart\" onclick=\"quickchart('df-f1431d22-6532-46b1-bec4-8f12fa8c8f97')\"\n",
              "            title=\"Suggest charts\"\n",
              "            style=\"display:none;\">\n",
              "\n",
              "<svg xmlns=\"http://www.w3.org/2000/svg\" height=\"24px\"viewBox=\"0 0 24 24\"\n",
              "     width=\"24px\">\n",
              "    <g>\n",
              "        <path d=\"M19 3H5c-1.1 0-2 .9-2 2v14c0 1.1.9 2 2 2h14c1.1 0 2-.9 2-2V5c0-1.1-.9-2-2-2zM9 17H7v-7h2v7zm4 0h-2V7h2v10zm4 0h-2v-4h2v4z\"/>\n",
              "    </g>\n",
              "</svg>\n",
              "  </button>\n",
              "\n",
              "<style>\n",
              "  .colab-df-quickchart {\n",
              "      --bg-color: #E8F0FE;\n",
              "      --fill-color: #1967D2;\n",
              "      --hover-bg-color: #E2EBFA;\n",
              "      --hover-fill-color: #174EA6;\n",
              "      --disabled-fill-color: #AAA;\n",
              "      --disabled-bg-color: #DDD;\n",
              "  }\n",
              "\n",
              "  [theme=dark] .colab-df-quickchart {\n",
              "      --bg-color: #3B4455;\n",
              "      --fill-color: #D2E3FC;\n",
              "      --hover-bg-color: #434B5C;\n",
              "      --hover-fill-color: #FFFFFF;\n",
              "      --disabled-bg-color: #3B4455;\n",
              "      --disabled-fill-color: #666;\n",
              "  }\n",
              "\n",
              "  .colab-df-quickchart {\n",
              "    background-color: var(--bg-color);\n",
              "    border: none;\n",
              "    border-radius: 50%;\n",
              "    cursor: pointer;\n",
              "    display: none;\n",
              "    fill: var(--fill-color);\n",
              "    height: 32px;\n",
              "    padding: 0;\n",
              "    width: 32px;\n",
              "  }\n",
              "\n",
              "  .colab-df-quickchart:hover {\n",
              "    background-color: var(--hover-bg-color);\n",
              "    box-shadow: 0 1px 2px rgba(60, 64, 67, 0.3), 0 1px 3px 1px rgba(60, 64, 67, 0.15);\n",
              "    fill: var(--button-hover-fill-color);\n",
              "  }\n",
              "\n",
              "  .colab-df-quickchart-complete:disabled,\n",
              "  .colab-df-quickchart-complete:disabled:hover {\n",
              "    background-color: var(--disabled-bg-color);\n",
              "    fill: var(--disabled-fill-color);\n",
              "    box-shadow: none;\n",
              "  }\n",
              "\n",
              "  .colab-df-spinner {\n",
              "    border: 2px solid var(--fill-color);\n",
              "    border-color: transparent;\n",
              "    border-bottom-color: var(--fill-color);\n",
              "    animation:\n",
              "      spin 1s steps(1) infinite;\n",
              "  }\n",
              "\n",
              "  @keyframes spin {\n",
              "    0% {\n",
              "      border-color: transparent;\n",
              "      border-bottom-color: var(--fill-color);\n",
              "      border-left-color: var(--fill-color);\n",
              "    }\n",
              "    20% {\n",
              "      border-color: transparent;\n",
              "      border-left-color: var(--fill-color);\n",
              "      border-top-color: var(--fill-color);\n",
              "    }\n",
              "    30% {\n",
              "      border-color: transparent;\n",
              "      border-left-color: var(--fill-color);\n",
              "      border-top-color: var(--fill-color);\n",
              "      border-right-color: var(--fill-color);\n",
              "    }\n",
              "    40% {\n",
              "      border-color: transparent;\n",
              "      border-right-color: var(--fill-color);\n",
              "      border-top-color: var(--fill-color);\n",
              "    }\n",
              "    60% {\n",
              "      border-color: transparent;\n",
              "      border-right-color: var(--fill-color);\n",
              "    }\n",
              "    80% {\n",
              "      border-color: transparent;\n",
              "      border-right-color: var(--fill-color);\n",
              "      border-bottom-color: var(--fill-color);\n",
              "    }\n",
              "    90% {\n",
              "      border-color: transparent;\n",
              "      border-bottom-color: var(--fill-color);\n",
              "    }\n",
              "  }\n",
              "</style>\n",
              "\n",
              "  <script>\n",
              "    async function quickchart(key) {\n",
              "      const quickchartButtonEl =\n",
              "        document.querySelector('#' + key + ' button');\n",
              "      quickchartButtonEl.disabled = true;  // To prevent multiple clicks.\n",
              "      quickchartButtonEl.classList.add('colab-df-spinner');\n",
              "      try {\n",
              "        const charts = await google.colab.kernel.invokeFunction(\n",
              "            'suggestCharts', [key], {});\n",
              "      } catch (error) {\n",
              "        console.error('Error during call to suggestCharts:', error);\n",
              "      }\n",
              "      quickchartButtonEl.classList.remove('colab-df-spinner');\n",
              "      quickchartButtonEl.classList.add('colab-df-quickchart-complete');\n",
              "    }\n",
              "    (() => {\n",
              "      let quickchartButtonEl =\n",
              "        document.querySelector('#df-f1431d22-6532-46b1-bec4-8f12fa8c8f97 button');\n",
              "      quickchartButtonEl.style.display =\n",
              "        google.colab.kernel.accessAllowed ? 'block' : 'none';\n",
              "    })();\n",
              "  </script>\n",
              "</div>\n",
              "    </div>\n",
              "  </div>\n"
            ]
          },
          "metadata": {},
          "execution_count": 176
        }
      ]
    },
    {
      "cell_type": "code",
      "source": [
        "label_encoder = preprocessing.LabelEncoder()\n",
        "\n",
        "features['mood']= label_encoder.fit_transform(features['mood'])\n",
        "\n",
        "features['mood'].unique()\n",
        "encoded_labels = features['mood']\n",
        "\n",
        "label_mapping = dict(zip(label_encoder.classes_, label_encoder.transform(label_encoder.classes_)))\n",
        "\n",
        "print(\"Label Encoding Mapping:\")\n",
        "for label, encoded_number in label_mapping.items():\n",
        "    print(f\"{label}: {encoded_number}\")"
      ],
      "metadata": {
        "id": "0EUMG1NJOQuo",
        "outputId": "edef73f5-81ae-491d-8834-29b13da03293",
        "colab": {
          "base_uri": "https://localhost:8080/"
        }
      },
      "execution_count": 177,
      "outputs": [
        {
          "output_type": "stream",
          "name": "stdout",
          "text": [
            "Label Encoding Mapping:\n",
            "Calm: 0\n",
            "Energetic: 1\n",
            "Happy: 2\n",
            "Sad: 3\n"
          ]
        }
      ]
    },
    {
      "cell_type": "code",
      "source": [
        "target = features.pop('mood')\n",
        "target.head()"
      ],
      "metadata": {
        "id": "-2t-8Ojt5Z_b",
        "colab": {
          "base_uri": "https://localhost:8080/"
        },
        "outputId": "d377a83e-a2f2-49f7-fde7-83d0155b672c"
      },
      "execution_count": 178,
      "outputs": [
        {
          "output_type": "execute_result",
          "data": {
            "text/plain": [
              "0    2\n",
              "1    3\n",
              "2    3\n",
              "3    2\n",
              "4    1\n",
              "Name: mood, dtype: int64"
            ]
          },
          "metadata": {},
          "execution_count": 178
        }
      ]
    },
    {
      "cell_type": "markdown",
      "source": [
        "Here we split data into training and testing data, with 80% of the data used for training and 20% used for testing"
      ],
      "metadata": {
        "id": "WU4VrBNnHXYg"
      }
    },
    {
      "cell_type": "code",
      "source": [
        "\n",
        "\n",
        "X = features\n",
        "y = target\n",
        "stratified_split = StratifiedShuffleSplit(n_splits=1, test_size=0.2, random_state=42)\n",
        "\n",
        "for train_index, test_index in stratified_split.split(X, y):\n",
        "    X_train, X_test = X.iloc[train_index], X.iloc[test_index]\n",
        "    y_train, y_test = y.iloc[train_index], y.iloc[test_index]\n",
        "\n",
        "# Check the distribution of classes in both training and testing sets\n",
        "print(\"Distribution of classes in training set:\")\n",
        "print(y_train.value_counts())\n",
        "\n",
        "print(\"\\nDistribution of classes in testing set:\")\n",
        "print(y_test.value_counts())"
      ],
      "metadata": {
        "id": "5VauMf_T7yu5",
        "colab": {
          "base_uri": "https://localhost:8080/"
        },
        "outputId": "1ffa70ad-a444-48b7-ef6e-f297f201a165"
      },
      "execution_count": 179,
      "outputs": [
        {
          "output_type": "stream",
          "name": "stdout",
          "text": [
            "Distribution of classes in training set:\n",
            "3    157\n",
            "0    156\n",
            "1    123\n",
            "2    112\n",
            "Name: mood, dtype: int64\n",
            "\n",
            "Distribution of classes in testing set:\n",
            "3    40\n",
            "0    39\n",
            "1    31\n",
            "2    28\n",
            "Name: mood, dtype: int64\n"
          ]
        }
      ]
    },
    {
      "cell_type": "markdown",
      "source": [
        "Here we create a random Forest Model with the training data, and we use the Grid Search tool to performs multiple computations on the hyperparameters and provide an ideal set of hyperparameters that help us achieve better results.  \n",
        "The hyperparameters that we test on are the n_estimators, which is the number of trees, and the max_depth, which is the maximum depth of the tree, and see which valuse give the best accuracy through trial and error"
      ],
      "metadata": {
        "id": "KTpX60wuLT_-"
      }
    },
    {
      "cell_type": "code",
      "source": [
        "\n",
        "rf_classifier = RandomForestClassifier()\n",
        "\n",
        "# hyperparameter grid\n",
        "param_grid = {\n",
        "    'n_estimators': [30,35,45,50,55,60],\n",
        "    'max_depth': [None,5,10,15,20],\n",
        "}\n",
        "\n",
        "grid_search = GridSearchCV(estimator=rf_classifier, param_grid=param_grid, cv=5, scoring='accuracy')\n",
        "\n",
        "grid_search.fit(X_train, y_train)\n",
        "\n",
        "best_params = grid_search.best_params_\n",
        "print(\"Best Hyperparameters:\", best_params)\n"
      ],
      "metadata": {
        "id": "GF6Jup9NLelI",
        "outputId": "9a3a5f11-a258-4128-9b01-9813241b9526",
        "colab": {
          "base_uri": "https://localhost:8080/"
        }
      },
      "execution_count": 180,
      "outputs": [
        {
          "output_type": "stream",
          "name": "stdout",
          "text": [
            "Best Hyperparameters: {'max_depth': 20, 'n_estimators': 50}\n"
          ]
        }
      ]
    },
    {
      "cell_type": "code",
      "source": [
        "max_depths = [5, 10, 15, 20, 25, 30]\n",
        "f1_scores = []\n",
        "\n",
        "for depth in max_depths:\n",
        "\n",
        "    clf = RandomForestClassifier(max_depth=depth, random_state=42)\n",
        "\n",
        "    clf.fit(X_train, y_train)\n",
        "\n",
        "    y_pred = clf.predict(X_test)\n",
        "\n",
        "    # Calculate F1 score\n",
        "    f1 = f1_score(y_test, y_pred, average='weighted')\n",
        "    f1_scores.append(f1)\n",
        "\n",
        "plt.figure(figsize=(8, 6))\n",
        "plt.plot(max_depths, f1_scores, marker='o', linestyle='-', color='b')\n",
        "plt.title('F1 Score vs Max Depths')\n",
        "plt.xlabel('Max Depths')\n",
        "plt.ylabel('F1 Score')\n",
        "plt.xticks(max_depths)\n",
        "plt.grid(True)\n",
        "plt.show()"
      ],
      "metadata": {
        "id": "O6Ty6D2-Rwp9",
        "outputId": "1350d2f6-649f-4755-dbe1-c2fef88c69d5",
        "colab": {
          "base_uri": "https://localhost:8080/",
          "height": 573
        }
      },
      "execution_count": 181,
      "outputs": [
        {
          "output_type": "display_data",
          "data": {
            "text/plain": [
              "<Figure size 800x600 with 1 Axes>"
            ],
            "image/png": "[encoded data removed]"
          },
          "metadata": {}
        }
      ]
    },
    {
      "cell_type": "code",
      "source": [
        "best_rf_model = grid_search.best_estimator_\n",
        "y_pred = best_rf_model.predict(X_test)\n",
        "\n",
        "accuracy = accuracy_score(y_test, y_pred)\n",
        "print(\"Accuracy:\", accuracy)"
      ],
      "metadata": {
        "id": "olv_-mx8O-xl",
        "outputId": "bf4973df-ea26-4693-c63e-4cf78fd112e2",
        "colab": {
          "base_uri": "https://localhost:8080/"
        }
      },
      "execution_count": 182,
      "outputs": [
        {
          "output_type": "stream",
          "name": "stdout",
          "text": [
            "Accuracy: 0.7898550724637681\n"
          ]
        }
      ]
    },
    {
      "cell_type": "code",
      "source": [
        "feature_importances = pd.Series(best_rf_model.feature_importances_, index=X_train.columns).sort_values(ascending=False)\n",
        "\n",
        "feature_importances.plot.bar(color='darkblue');\n",
        "plt.title('Feature Importances')\n",
        "plt.xlabel('Feature')\n",
        "plt.ylabel('Importance')\n",
        "plt.show()"
      ],
      "metadata": {
        "id": "6AoqqjQnPSf4",
        "outputId": "8828ffbc-f480-46a8-f3c8-e76ffbe16638",
        "colab": {
          "base_uri": "https://localhost:8080/",
          "height": 598
        }
      },
      "execution_count": 183,
      "outputs": [
        {
          "output_type": "display_data",
          "data": {
            "text/plain": [
              "<Figure size 640x480 with 1 Axes>"
            ],
            "image/png": "[encoded data removed]"
          },
          "metadata": {}
        }
      ]
    },
    {
      "cell_type": "code",
      "source": [
        "conf_matrix = confusion_matrix(y_test, y_pred)\n",
        "\n",
        "plt.figure(figsize=(8, 6))\n",
        "sns.heatmap(conf_matrix, annot=True, fmt='d', cmap='Greens', xticklabels=best_rf_model.classes_, yticklabels=best_rf_model.classes_)\n",
        "plt.title('Confusion Matrix - Random Forest')\n",
        "plt.xlabel('Predicted')\n",
        "plt.ylabel('Actual')\n",
        "plt.show()\n"
      ],
      "metadata": {
        "id": "ItuXkMs0UrjD",
        "outputId": "fb45e65a-787e-4897-ec6b-a93f611013b8",
        "colab": {
          "base_uri": "https://localhost:8080/",
          "height": 573
        }
      },
      "execution_count": 184,
      "outputs": [
        {
          "output_type": "display_data",
          "data": {
            "text/plain": [
              "<Figure size 800x600 with 2 Axes>"
            ],
            "image/png": "[encoded data removed]"
          },
          "metadata": {}
        }
      ]
    },
    {
      "cell_type": "markdown",
      "source": [
        "# KNN Model"
      ],
      "metadata": {
        "id": "IAaJj4prfHJ2"
      }
    },
    {
      "cell_type": "code",
      "source": [
        "X_train1, X_test1, y_train1, y_test1 = train_test_split(features, target, test_size=0.2, random_state=42)\n",
        "\n",
        "# Standardize the features\n",
        "scaler = StandardScaler()\n",
        "X_train_scaled = scaler.fit_transform(X_train1)\n",
        "X_test_scaled = scaler.transform(X_test1)\n",
        "\n",
        "knn_classifier = KNeighborsClassifier()\n",
        "\n",
        "param_grid = {'n_neighbors': [3, 5, 7, 9], 'weights': ['uniform', 'distance']}\n",
        "\n",
        "\n",
        "grid_search = GridSearchCV(knn_classifier, param_grid, cv=5, scoring='accuracy')\n",
        "grid_search.fit(X_train_scaled, y_train1)\n",
        "\n",
        "best_knn_model = grid_search.best_estimator_\n",
        "\n",
        "\n",
        "y_pred1 = best_knn_model.predict(X_test_scaled)\n",
        "\n",
        "accuracy = accuracy_score(y_test1, y_pred1)\n",
        "print(\"Optimal KNN Model Accuracy:\", accuracy)\n",
        "print(\"Best Hyperparameters:\", grid_search.best_params_)\n"
      ],
      "metadata": {
        "id": "HzbDNU8Xqq9g",
        "outputId": "7fe0af26-7875-462e-e786-021bd0f29fb1",
        "colab": {
          "base_uri": "https://localhost:8080/"
        }
      },
      "execution_count": 185,
      "outputs": [
        {
          "output_type": "stream",
          "name": "stdout",
          "text": [
            "Optimal KNN Model Accuracy: 0.7536231884057971\n",
            "Best Hyperparameters: {'n_neighbors': 9, 'weights': 'distance'}\n"
          ]
        }
      ]
    },
    {
      "cell_type": "code",
      "source": [
        "\n",
        "conf_matrix = confusion_matrix(y_test1, y_pred1)\n",
        "\n",
        "plt.figure(figsize=(8, 6))\n",
        "sns.heatmap(conf_matrix, annot=True, fmt='d', cmap='Blues', xticklabels=best_knn_model.classes_, yticklabels=best_knn_model.classes_)\n",
        "plt.title('Confusion Matrix')\n",
        "plt.xlabel('Predicted')\n",
        "plt.ylabel('Actual')\n",
        "plt.show()"
      ],
      "metadata": {
        "colab": {
          "base_uri": "https://localhost:8080/",
          "height": 573
        },
        "id": "N8UrAFlddDa9",
        "outputId": "443cf0e1-5c63-472d-974b-236aa7fbce3a"
      },
      "execution_count": 186,
      "outputs": [
        {
          "output_type": "display_data",
          "data": {
            "text/plain": [
              "<Figure size 800x600 with 2 Axes>"
            ],
            "image/png": "[encoded data removed]"
          },
          "metadata": {}
        }
      ]
    },
    {
      "cell_type": "markdown",
      "source": [
        "# Evaluation"
      ],
      "metadata": {
        "id": "WnsKp40aVObv"
      }
    },
    {
      "cell_type": "code",
      "source": [
        "X_train1_array = np.array(X_train1)\n",
        "\n",
        "conf_matrix_rf = confusion_matrix(y_test, best_rf_model.predict(X_test))\n",
        "\n",
        "conf_matrix_knn = confusion_matrix(y_test1, best_knn_model.predict(X_test1))\n",
        "\n",
        "fig, axes = plt.subplots(1, 2, figsize=(16, 6))\n",
        "\n",
        "sns.heatmap(conf_matrix_rf, annot=True, fmt='d', cmap='Greens', xticklabels=best_rf_model.classes_, yticklabels=best_rf_model.classes_, ax=axes[0])\n",
        "axes[0].set_title('Confusion Matrix - Random Forest')\n",
        "axes[0].set_xlabel('Predicted')\n",
        "axes[0].set_ylabel('Actual')\n",
        "\n",
        "sns.heatmap(conf_matrix, annot=True, fmt='d', cmap='Blues', xticklabels=best_knn_model.classes_, yticklabels=best_knn_model.classes_, ax=axes[1])\n",
        "axes[1].set_title('Confusion Matrix - KNN')\n",
        "axes[1].set_xlabel('Predicted')\n",
        "axes[1].set_ylabel('Actual')\n",
        "\n",
        "plt.tight_layout()\n",
        "plt.show()\n"
      ],
      "metadata": {
        "colab": {
          "base_uri": "https://localhost:8080/",
          "height": 496
        },
        "id": "A2MfaBIseOly",
        "outputId": "f9088f2b-6546-4ba4-f3cb-bbbaeab5f3dd"
      },
      "execution_count": 187,
      "outputs": [
        {
          "output_type": "stream",
          "name": "stderr",
          "text": [
            "/usr/local/lib/python3.10/dist-packages/sklearn/base.py:432: UserWarning: X has feature names, but KNeighborsClassifier was fitted without feature names\n",
            "  warnings.warn(\n"
          ]
        },
        {
          "output_type": "display_data",
          "data": {
            "text/plain": [
              "<Figure size 1600x600 with 4 Axes>"
            ],
            "image/png": "[encoded data removed]"
          },
          "metadata": {}
        }
      ]
    },
    {
      "cell_type": "code",
      "source": [
        "accuracy_rf = accuracy_score(y_test, best_rf_model.predict(X_test))\n",
        "accuracy_knn = accuracy_score(y_test1, y_pred1)\n",
        "\n",
        "print(\"Accuracy - Random Forest:\", accuracy_rf)\n",
        "print(\"Accuracy - KNN Model:\", accuracy_knn)"
      ],
      "metadata": {
        "id": "ma0xM363iEDP",
        "outputId": "18671336-aee1-49d3-ae5d-109484d90ea2",
        "colab": {
          "base_uri": "https://localhost:8080/"
        }
      },
      "execution_count": 188,
      "outputs": [
        {
          "output_type": "stream",
          "name": "stdout",
          "text": [
            "Accuracy - Random Forest: 0.7898550724637681\n",
            "Accuracy - KNN Model: 0.7536231884057971\n"
          ]
        }
      ]
    }
  ]
}