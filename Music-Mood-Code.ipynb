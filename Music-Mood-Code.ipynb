{
  "nbformat": 4,
  "nbformat_minor": 0,
  "metadata": {
    "colab": {
      "provenance": [],
      "authorship_tag": "ABX9TyM9MK5y9jUOxasfR/oPvFIq",
      "include_colab_link": true
    },
    "kernelspec": {
      "name": "python3",
      "display_name": "Python 3"
    },
    "language_info": {
      "name": "python"
    }
  },
  "cells": [
    {
      "cell_type": "markdown",
      "metadata": {
        "id": "view-in-github",
        "colab_type": "text"
      },
      "source": [
        "<a href=\"https://colab.research.google.com/github/HalaShawky/Music-Analysis/blob/main/Music-Mood-Code.ipynb\" target=\"_parent\"><img src=\"https://colab.research.google.com/assets/colab-badge.svg\" alt=\"Open In Colab\"/></a>"
      ]
    },
    {
      "cell_type": "markdown",
      "source": [
        "# **Introduction**"
      ],
      "metadata": {
        "id": "HbJZS2iVvn8s"
      }
    },
    {
      "cell_type": "markdown",
      "source": [
        "Throughout history, music and emotions have always been linked together, and music has always been part of how people express their feelings of sadness, happiness, hope, or excitement. Whether music can indeed influence the listener's emotions, or merely convey such emotion has been a point of debate for many years, however, the fact that both elements can be studied together is a subject many agree on. As technology advances, new methods of music analysis are being explored and refined, allowing us to have a better understanding of music and its emotional impact.\n",
        "\n",
        "In this context, this project comes to explore and analyze the relationship of music to mood and the ability to predict mood through the features of music.\n",
        "\n",
        "This project aims to create artificial intelligence models using features of music to analyze it and predict the resulting mood. Machine learning and data mining techniques will be used to analyze various musical features and determine the connection between them and the mood.\n",
        "\n",
        "This project is expected to contribute to a better understanding of how can machine learning tools classify and predict listeners moods based on music features."
      ],
      "metadata": {
        "id": "NtIp9qyrvlvy"
      }
    },
    {
      "cell_type": "markdown",
      "source": [
        "The dataset used in this project is obtained from Muharam, M. G. (2020). Spotify Music data to Identify the Moods (Version 1). Kaggle. https://www.kaggle.com/code/muhammadghazimuharam/music-mood-classification/input"
      ],
      "metadata": {
        "id": "SPM8DqkvzNUb"
      }
    },
    {
      "cell_type": "markdown",
      "source": [
        "# Business Understanding"
      ],
      "metadata": {
        "id": "jSYxtx2p_JNo"
      }
    },
    {
      "cell_type": "markdown",
      "source": [
        "Recently people have now been accustmed to recommendation systems in all sorts of media, like their online video and audio streaming services, their news feeds, and online retail options.\n",
        "\n",
        "Our focus however will be on music subscription services that use recommendation systems to curate individual songs into personalized playlists according to a certain criteria, and in our case, it will be based on mood.\n",
        "\n",
        "Our goal in this project is to build a predictive model that accurately categorizes music tracks into various moods.\n",
        "\n",
        "This model can be used in the music recommendation systems that is utilized by many online music streaming applications."
      ],
      "metadata": {
        "id": "2GENHl2s_Psg"
      }
    },
    {
      "cell_type": "markdown",
      "source": [
        "# Data Understanding"
      ],
      "metadata": {
        "id": "zZxHSWBhzPLU"
      }
    },
    {
      "cell_type": "code",
      "source": [
        "import numpy as np\n",
        "import pandas as pd\n",
        "import seaborn as sns"
      ],
      "metadata": {
        "id": "uT_C_8paB6dF"
      },
      "execution_count": 49,
      "outputs": []
    },
    {
      "cell_type": "markdown",
      "source": [
        "This dataset uses the Spotify API for developers that makes use of their huge database of music for building interesting applications and studying people's music listening habits.\n",
        "\n",
        "The columns are as follows:  \n",
        "name: Name of the song  \n",
        "album: Name of the album   \n",
        "artist: Name of artist   \n",
        "id:Spotify track id   \n",
        "release date: Release date of the song (yyyy-mm-dd)   \n",
        "popularity:  \n"
      ],
      "metadata": {
        "id": "1RpA8kpgEJsr"
      }
    },
    {
      "cell_type": "code",
      "source": [
        "url = 'https://raw.githubusercontent.com/HalaShawky/Music-Analysis/main/data_moods.csv?token=GHSAT0AAAAAACKVGEP5IQDFMQZ4TWNMSMRMZLUR7FA'\n",
        "df = pd.read_csv(url)\n",
        "df"
      ],
      "metadata": {
        "colab": {
          "base_uri": "https://localhost:8080/",
          "height": 634
        },
        "id": "WqNJGIm5NfdW",
        "outputId": "31c313f0-e4cd-43ba-b889-8aeb9883c142"
      },
      "execution_count": 50,
      "outputs": [
        {
          "output_type": "execute_result",
          "data": {
            "text/plain": [
              "                                            name  \\\n",
              "0                                           1999   \n",
              "1                                             23   \n",
              "2                                       9 Crimes   \n",
              "3                                 99 Luftballons   \n",
              "4    A Boy Brushed Red Living In Black And White   \n",
              "..                                           ...   \n",
              "681                                  windcatcher   \n",
              "682              yellow is the color of her eyes   \n",
              "683                           you broke me first   \n",
              "684                          you were good to me   \n",
              "685                                         æfre   \n",
              "\n",
              "                               album          artist                      id  \\\n",
              "0                               1999          Prince  2H7PHVdQ3mXqEHXcvclTB0   \n",
              "1                                 23  Blonde Redhead  4HIwL9ii9CcXpTOTzMq0MP   \n",
              "2                                  9     Damien Rice  5GZEeowhvSieFDiR8fQ2im   \n",
              "3                     99 Luftballons            Nena  6HA97v4wEGQ5TUClRM0XLc   \n",
              "4        They're Only Chasing Safety       Underoath  47IWLfIKOKhFnz1FUEUIkE   \n",
              "..                               ...             ...                     ...   \n",
              "681                      windcatcher       Leo Nocta  59VApBbrS2IADQk4ml5mdo   \n",
              "682  yellow is the color of her eyes    Soccer Mommy  4D3nttJPU6L0M2epr7sId6   \n",
              "683               you broke me first      Tate McRae  45bE4HXI0AwGZXfZtMp8JR   \n",
              "684                            brent   Jeremy Zucker  4CxFN5zON70B3VOPBYbd6P   \n",
              "685                             æfre           praam  2irbT1BSYaIEF44PlyKaoM   \n",
              "\n",
              "    release_date  popularity  length  danceability  acousticness  energy  \\\n",
              "0     1982-10-27          68  379266         0.866       0.13700  0.7300   \n",
              "1     2007-04-16          43  318800         0.381       0.01890  0.8320   \n",
              "2     2006-11-06          60  217946         0.346       0.91300  0.1390   \n",
              "3     1984-08-21           2  233000         0.466       0.08900  0.4380   \n",
              "4     2004-01-01          60  268000         0.419       0.00171  0.9320   \n",
              "..           ...         ...     ...           ...           ...     ...   \n",
              "681   2020-06-19          36  123066         0.402       0.96100  0.2360   \n",
              "682   2019-11-19           5  435080         0.452       0.75700  0.5150   \n",
              "683   2020-04-17          87  169265         0.642       0.78600  0.3740   \n",
              "684   2019-05-03          76  219146         0.561       0.91300  0.0848   \n",
              "685   2020-07-17          41  186331         0.377       0.99400  0.0156   \n",
              "\n",
              "     instrumentalness  liveness  valence  loudness  speechiness    tempo  key  \\\n",
              "0            0.000000    0.0843   0.6250    -8.201       0.0767  118.523    5   \n",
              "1            0.196000    0.1530   0.1660    -5.069       0.0492  120.255    8   \n",
              "2            0.000077    0.0934   0.1160   -15.326       0.0321  136.168    0   \n",
              "3            0.000006    0.1130   0.5870   -12.858       0.0608  193.100    4   \n",
              "4            0.000000    0.1370   0.4450    -3.604       0.1060  169.881    1   \n",
              "..                ...       ...      ...       ...          ...      ...  ...   \n",
              "681          0.919000    0.0921   0.1460   -20.615       0.0603  129.736    0   \n",
              "682          0.120000    0.1400   0.1910    -7.351       0.0255   80.537   11   \n",
              "683          0.000000    0.0906   0.0799    -9.386       0.0545  124.099    4   \n",
              "684          0.000026    0.1120   0.2060   -15.099       0.0404  102.128    2   \n",
              "685          0.881000    0.0991   0.0804   -28.435       0.0397  140.179    0   \n",
              "\n",
              "     time_signature       mood  \n",
              "0                 4      Happy  \n",
              "1                 4        Sad  \n",
              "2                 4        Sad  \n",
              "3                 4      Happy  \n",
              "4                 4  Energetic  \n",
              "..              ...        ...  \n",
              "681               3       Calm  \n",
              "682               4        Sad  \n",
              "683               4        Sad  \n",
              "684               4        Sad  \n",
              "685               4       Calm  \n",
              "\n",
              "[686 rows x 19 columns]"
            ],
            "text/html": [
              "\n",
              "  <div id=\"df-7bfe8451-310d-4a51-a3b5-7e92cb198a2c\" class=\"colab-df-container\">\n",
              "    <div>\n",
              "<style scoped>\n",
              "    .dataframe tbody tr th:only-of-type {\n",
              "        vertical-align: middle;\n",
              "    }\n",
              "\n",
              "    .dataframe tbody tr th {\n",
              "        vertical-align: top;\n",
              "    }\n",
              "\n",
              "    .dataframe thead th {\n",
              "        text-align: right;\n",
              "    }\n",
              "</style>\n",
              "<table border=\"1\" class=\"dataframe\">\n",
              "  <thead>\n",
              "    <tr style=\"text-align: right;\">\n",
              "      <th></th>\n",
              "      <th>name</th>\n",
              "      <th>album</th>\n",
              "      <th>artist</th>\n",
              "      <th>id</th>\n",
              "      <th>release_date</th>\n",
              "      <th>popularity</th>\n",
              "      <th>length</th>\n",
              "      <th>danceability</th>\n",
              "      <th>acousticness</th>\n",
              "      <th>energy</th>\n",
              "      <th>instrumentalness</th>\n",
              "      <th>liveness</th>\n",
              "      <th>valence</th>\n",
              "      <th>loudness</th>\n",
              "      <th>speechiness</th>\n",
              "      <th>tempo</th>\n",
              "      <th>key</th>\n",
              "      <th>time_signature</th>\n",
              "      <th>mood</th>\n",
              "    </tr>\n",
              "  </thead>\n",
              "  <tbody>\n",
              "    <tr>\n",
              "      <th>0</th>\n",
              "      <td>1999</td>\n",
              "      <td>1999</td>\n",
              "      <td>Prince</td>\n",
              "      <td>2H7PHVdQ3mXqEHXcvclTB0</td>\n",
              "      <td>1982-10-27</td>\n",
              "      <td>68</td>\n",
              "      <td>379266</td>\n",
              "      <td>0.866</td>\n",
              "      <td>0.13700</td>\n",
              "      <td>0.7300</td>\n",
              "      <td>0.000000</td>\n",
              "      <td>0.0843</td>\n",
              "      <td>0.6250</td>\n",
              "      <td>-8.201</td>\n",
              "      <td>0.0767</td>\n",
              "      <td>118.523</td>\n",
              "      <td>5</td>\n",
              "      <td>4</td>\n",
              "      <td>Happy</td>\n",
              "    </tr>\n",
              "    <tr>\n",
              "      <th>1</th>\n",
              "      <td>23</td>\n",
              "      <td>23</td>\n",
              "      <td>Blonde Redhead</td>\n",
              "      <td>4HIwL9ii9CcXpTOTzMq0MP</td>\n",
              "      <td>2007-04-16</td>\n",
              "      <td>43</td>\n",
              "      <td>318800</td>\n",
              "      <td>0.381</td>\n",
              "      <td>0.01890</td>\n",
              "      <td>0.8320</td>\n",
              "      <td>0.196000</td>\n",
              "      <td>0.1530</td>\n",
              "      <td>0.1660</td>\n",
              "      <td>-5.069</td>\n",
              "      <td>0.0492</td>\n",
              "      <td>120.255</td>\n",
              "      <td>8</td>\n",
              "      <td>4</td>\n",
              "      <td>Sad</td>\n",
              "    </tr>\n",
              "    <tr>\n",
              "      <th>2</th>\n",
              "      <td>9 Crimes</td>\n",
              "      <td>9</td>\n",
              "      <td>Damien Rice</td>\n",
              "      <td>5GZEeowhvSieFDiR8fQ2im</td>\n",
              "      <td>2006-11-06</td>\n",
              "      <td>60</td>\n",
              "      <td>217946</td>\n",
              "      <td>0.346</td>\n",
              "      <td>0.91300</td>\n",
              "      <td>0.1390</td>\n",
              "      <td>0.000077</td>\n",
              "      <td>0.0934</td>\n",
              "      <td>0.1160</td>\n",
              "      <td>-15.326</td>\n",
              "      <td>0.0321</td>\n",
              "      <td>136.168</td>\n",
              "      <td>0</td>\n",
              "      <td>4</td>\n",
              "      <td>Sad</td>\n",
              "    </tr>\n",
              "    <tr>\n",
              "      <th>3</th>\n",
              "      <td>99 Luftballons</td>\n",
              "      <td>99 Luftballons</td>\n",
              "      <td>Nena</td>\n",
              "      <td>6HA97v4wEGQ5TUClRM0XLc</td>\n",
              "      <td>1984-08-21</td>\n",
              "      <td>2</td>\n",
              "      <td>233000</td>\n",
              "      <td>0.466</td>\n",
              "      <td>0.08900</td>\n",
              "      <td>0.4380</td>\n",
              "      <td>0.000006</td>\n",
              "      <td>0.1130</td>\n",
              "      <td>0.5870</td>\n",
              "      <td>-12.858</td>\n",
              "      <td>0.0608</td>\n",
              "      <td>193.100</td>\n",
              "      <td>4</td>\n",
              "      <td>4</td>\n",
              "      <td>Happy</td>\n",
              "    </tr>\n",
              "    <tr>\n",
              "      <th>4</th>\n",
              "      <td>A Boy Brushed Red Living In Black And White</td>\n",
              "      <td>They're Only Chasing Safety</td>\n",
              "      <td>Underoath</td>\n",
              "      <td>47IWLfIKOKhFnz1FUEUIkE</td>\n",
              "      <td>2004-01-01</td>\n",
              "      <td>60</td>\n",
              "      <td>268000</td>\n",
              "      <td>0.419</td>\n",
              "      <td>0.00171</td>\n",
              "      <td>0.9320</td>\n",
              "      <td>0.000000</td>\n",
              "      <td>0.1370</td>\n",
              "      <td>0.4450</td>\n",
              "      <td>-3.604</td>\n",
              "      <td>0.1060</td>\n",
              "      <td>169.881</td>\n",
              "      <td>1</td>\n",
              "      <td>4</td>\n",
              "      <td>Energetic</td>\n",
              "    </tr>\n",
              "    <tr>\n",
              "      <th>...</th>\n",
              "      <td>...</td>\n",
              "      <td>...</td>\n",
              "      <td>...</td>\n",
              "      <td>...</td>\n",
              "      <td>...</td>\n",
              "      <td>...</td>\n",
              "      <td>...</td>\n",
              "      <td>...</td>\n",
              "      <td>...</td>\n",
              "      <td>...</td>\n",
              "      <td>...</td>\n",
              "      <td>...</td>\n",
              "      <td>...</td>\n",
              "      <td>...</td>\n",
              "      <td>...</td>\n",
              "      <td>...</td>\n",
              "      <td>...</td>\n",
              "      <td>...</td>\n",
              "      <td>...</td>\n",
              "    </tr>\n",
              "    <tr>\n",
              "      <th>681</th>\n",
              "      <td>windcatcher</td>\n",
              "      <td>windcatcher</td>\n",
              "      <td>Leo Nocta</td>\n",
              "      <td>59VApBbrS2IADQk4ml5mdo</td>\n",
              "      <td>2020-06-19</td>\n",
              "      <td>36</td>\n",
              "      <td>123066</td>\n",
              "      <td>0.402</td>\n",
              "      <td>0.96100</td>\n",
              "      <td>0.2360</td>\n",
              "      <td>0.919000</td>\n",
              "      <td>0.0921</td>\n",
              "      <td>0.1460</td>\n",
              "      <td>-20.615</td>\n",
              "      <td>0.0603</td>\n",
              "      <td>129.736</td>\n",
              "      <td>0</td>\n",
              "      <td>3</td>\n",
              "      <td>Calm</td>\n",
              "    </tr>\n",
              "    <tr>\n",
              "      <th>682</th>\n",
              "      <td>yellow is the color of her eyes</td>\n",
              "      <td>yellow is the color of her eyes</td>\n",
              "      <td>Soccer Mommy</td>\n",
              "      <td>4D3nttJPU6L0M2epr7sId6</td>\n",
              "      <td>2019-11-19</td>\n",
              "      <td>5</td>\n",
              "      <td>435080</td>\n",
              "      <td>0.452</td>\n",
              "      <td>0.75700</td>\n",
              "      <td>0.5150</td>\n",
              "      <td>0.120000</td>\n",
              "      <td>0.1400</td>\n",
              "      <td>0.1910</td>\n",
              "      <td>-7.351</td>\n",
              "      <td>0.0255</td>\n",
              "      <td>80.537</td>\n",
              "      <td>11</td>\n",
              "      <td>4</td>\n",
              "      <td>Sad</td>\n",
              "    </tr>\n",
              "    <tr>\n",
              "      <th>683</th>\n",
              "      <td>you broke me first</td>\n",
              "      <td>you broke me first</td>\n",
              "      <td>Tate McRae</td>\n",
              "      <td>45bE4HXI0AwGZXfZtMp8JR</td>\n",
              "      <td>2020-04-17</td>\n",
              "      <td>87</td>\n",
              "      <td>169265</td>\n",
              "      <td>0.642</td>\n",
              "      <td>0.78600</td>\n",
              "      <td>0.3740</td>\n",
              "      <td>0.000000</td>\n",
              "      <td>0.0906</td>\n",
              "      <td>0.0799</td>\n",
              "      <td>-9.386</td>\n",
              "      <td>0.0545</td>\n",
              "      <td>124.099</td>\n",
              "      <td>4</td>\n",
              "      <td>4</td>\n",
              "      <td>Sad</td>\n",
              "    </tr>\n",
              "    <tr>\n",
              "      <th>684</th>\n",
              "      <td>you were good to me</td>\n",
              "      <td>brent</td>\n",
              "      <td>Jeremy Zucker</td>\n",
              "      <td>4CxFN5zON70B3VOPBYbd6P</td>\n",
              "      <td>2019-05-03</td>\n",
              "      <td>76</td>\n",
              "      <td>219146</td>\n",
              "      <td>0.561</td>\n",
              "      <td>0.91300</td>\n",
              "      <td>0.0848</td>\n",
              "      <td>0.000026</td>\n",
              "      <td>0.1120</td>\n",
              "      <td>0.2060</td>\n",
              "      <td>-15.099</td>\n",
              "      <td>0.0404</td>\n",
              "      <td>102.128</td>\n",
              "      <td>2</td>\n",
              "      <td>4</td>\n",
              "      <td>Sad</td>\n",
              "    </tr>\n",
              "    <tr>\n",
              "      <th>685</th>\n",
              "      <td>æfre</td>\n",
              "      <td>æfre</td>\n",
              "      <td>praam</td>\n",
              "      <td>2irbT1BSYaIEF44PlyKaoM</td>\n",
              "      <td>2020-07-17</td>\n",
              "      <td>41</td>\n",
              "      <td>186331</td>\n",
              "      <td>0.377</td>\n",
              "      <td>0.99400</td>\n",
              "      <td>0.0156</td>\n",
              "      <td>0.881000</td>\n",
              "      <td>0.0991</td>\n",
              "      <td>0.0804</td>\n",
              "      <td>-28.435</td>\n",
              "      <td>0.0397</td>\n",
              "      <td>140.179</td>\n",
              "      <td>0</td>\n",
              "      <td>4</td>\n",
              "      <td>Calm</td>\n",
              "    </tr>\n",
              "  </tbody>\n",
              "</table>\n",
              "<p>686 rows × 19 columns</p>\n",
              "</div>\n",
              "    <div class=\"colab-df-buttons\">\n",
              "\n",
              "  <div class=\"colab-df-container\">\n",
              "    <button class=\"colab-df-convert\" onclick=\"convertToInteractive('df-7bfe8451-310d-4a51-a3b5-7e92cb198a2c')\"\n",
              "            title=\"Convert this dataframe to an interactive table.\"\n",
              "            style=\"display:none;\">\n",
              "\n",
              "  <svg xmlns=\"http://www.w3.org/2000/svg\" height=\"24px\" viewBox=\"0 -960 960 960\">\n",
              "    <path d=\"M120-120v-720h720v720H120Zm60-500h600v-160H180v160Zm220 220h160v-160H400v160Zm0 220h160v-160H400v160ZM180-400h160v-160H180v160Zm440 0h160v-160H620v160ZM180-180h160v-160H180v160Zm440 0h160v-160H620v160Z\"/>\n",
              "  </svg>\n",
              "    </button>\n",
              "\n",
              "  <style>\n",
              "    .colab-df-container {\n",
              "      display:flex;\n",
              "      gap: 12px;\n",
              "    }\n",
              "\n",
              "    .colab-df-convert {\n",
              "      background-color: #E8F0FE;\n",
              "      border: none;\n",
              "      border-radius: 50%;\n",
              "      cursor: pointer;\n",
              "      display: none;\n",
              "      fill: #1967D2;\n",
              "      height: 32px;\n",
              "      padding: 0 0 0 0;\n",
              "      width: 32px;\n",
              "    }\n",
              "\n",
              "    .colab-df-convert:hover {\n",
              "      background-color: #E2EBFA;\n",
              "      box-shadow: 0px 1px 2px rgba(60, 64, 67, 0.3), 0px 1px 3px 1px rgba(60, 64, 67, 0.15);\n",
              "      fill: #174EA6;\n",
              "    }\n",
              "\n",
              "    .colab-df-buttons div {\n",
              "      margin-bottom: 4px;\n",
              "    }\n",
              "\n",
              "    [theme=dark] .colab-df-convert {\n",
              "      background-color: #3B4455;\n",
              "      fill: #D2E3FC;\n",
              "    }\n",
              "\n",
              "    [theme=dark] .colab-df-convert:hover {\n",
              "      background-color: #434B5C;\n",
              "      box-shadow: 0px 1px 3px 1px rgba(0, 0, 0, 0.15);\n",
              "      filter: drop-shadow(0px 1px 2px rgba(0, 0, 0, 0.3));\n",
              "      fill: #FFFFFF;\n",
              "    }\n",
              "  </style>\n",
              "\n",
              "    <script>\n",
              "      const buttonEl =\n",
              "        document.querySelector('#df-7bfe8451-310d-4a51-a3b5-7e92cb198a2c button.colab-df-convert');\n",
              "      buttonEl.style.display =\n",
              "        google.colab.kernel.accessAllowed ? 'block' : 'none';\n",
              "\n",
              "      async function convertToInteractive(key) {\n",
              "        const element = document.querySelector('#df-7bfe8451-310d-4a51-a3b5-7e92cb198a2c');\n",
              "        const dataTable =\n",
              "          await google.colab.kernel.invokeFunction('convertToInteractive',\n",
              "                                                    [key], {});\n",
              "        if (!dataTable) return;\n",
              "\n",
              "        const docLinkHtml = 'Like what you see? Visit the ' +\n",
              "          '<a target=\"_blank\" href=https://colab.research.google.com/notebooks/data_table.ipynb>data table notebook</a>'\n",
              "          + ' to learn more about interactive tables.';\n",
              "        element.innerHTML = '';\n",
              "        dataTable['output_type'] = 'display_data';\n",
              "        await google.colab.output.renderOutput(dataTable, element);\n",
              "        const docLink = document.createElement('div');\n",
              "        docLink.innerHTML = docLinkHtml;\n",
              "        element.appendChild(docLink);\n",
              "      }\n",
              "    </script>\n",
              "  </div>\n",
              "\n",
              "\n",
              "<div id=\"df-55351ee5-8be1-4110-bdc7-97f2ee0142c0\">\n",
              "  <button class=\"colab-df-quickchart\" onclick=\"quickchart('df-55351ee5-8be1-4110-bdc7-97f2ee0142c0')\"\n",
              "            title=\"Suggest charts\"\n",
              "            style=\"display:none;\">\n",
              "\n",
              "<svg xmlns=\"http://www.w3.org/2000/svg\" height=\"24px\"viewBox=\"0 0 24 24\"\n",
              "     width=\"24px\">\n",
              "    <g>\n",
              "        <path d=\"M19 3H5c-1.1 0-2 .9-2 2v14c0 1.1.9 2 2 2h14c1.1 0 2-.9 2-2V5c0-1.1-.9-2-2-2zM9 17H7v-7h2v7zm4 0h-2V7h2v10zm4 0h-2v-4h2v4z\"/>\n",
              "    </g>\n",
              "</svg>\n",
              "  </button>\n",
              "\n",
              "<style>\n",
              "  .colab-df-quickchart {\n",
              "      --bg-color: #E8F0FE;\n",
              "      --fill-color: #1967D2;\n",
              "      --hover-bg-color: #E2EBFA;\n",
              "      --hover-fill-color: #174EA6;\n",
              "      --disabled-fill-color: #AAA;\n",
              "      --disabled-bg-color: #DDD;\n",
              "  }\n",
              "\n",
              "  [theme=dark] .colab-df-quickchart {\n",
              "      --bg-color: #3B4455;\n",
              "      --fill-color: #D2E3FC;\n",
              "      --hover-bg-color: #434B5C;\n",
              "      --hover-fill-color: #FFFFFF;\n",
              "      --disabled-bg-color: #3B4455;\n",
              "      --disabled-fill-color: #666;\n",
              "  }\n",
              "\n",
              "  .colab-df-quickchart {\n",
              "    background-color: var(--bg-color);\n",
              "    border: none;\n",
              "    border-radius: 50%;\n",
              "    cursor: pointer;\n",
              "    display: none;\n",
              "    fill: var(--fill-color);\n",
              "    height: 32px;\n",
              "    padding: 0;\n",
              "    width: 32px;\n",
              "  }\n",
              "\n",
              "  .colab-df-quickchart:hover {\n",
              "    background-color: var(--hover-bg-color);\n",
              "    box-shadow: 0 1px 2px rgba(60, 64, 67, 0.3), 0 1px 3px 1px rgba(60, 64, 67, 0.15);\n",
              "    fill: var(--button-hover-fill-color);\n",
              "  }\n",
              "\n",
              "  .colab-df-quickchart-complete:disabled,\n",
              "  .colab-df-quickchart-complete:disabled:hover {\n",
              "    background-color: var(--disabled-bg-color);\n",
              "    fill: var(--disabled-fill-color);\n",
              "    box-shadow: none;\n",
              "  }\n",
              "\n",
              "  .colab-df-spinner {\n",
              "    border: 2px solid var(--fill-color);\n",
              "    border-color: transparent;\n",
              "    border-bottom-color: var(--fill-color);\n",
              "    animation:\n",
              "      spin 1s steps(1) infinite;\n",
              "  }\n",
              "\n",
              "  @keyframes spin {\n",
              "    0% {\n",
              "      border-color: transparent;\n",
              "      border-bottom-color: var(--fill-color);\n",
              "      border-left-color: var(--fill-color);\n",
              "    }\n",
              "    20% {\n",
              "      border-color: transparent;\n",
              "      border-left-color: var(--fill-color);\n",
              "      border-top-color: var(--fill-color);\n",
              "    }\n",
              "    30% {\n",
              "      border-color: transparent;\n",
              "      border-left-color: var(--fill-color);\n",
              "      border-top-color: var(--fill-color);\n",
              "      border-right-color: var(--fill-color);\n",
              "    }\n",
              "    40% {\n",
              "      border-color: transparent;\n",
              "      border-right-color: var(--fill-color);\n",
              "      border-top-color: var(--fill-color);\n",
              "    }\n",
              "    60% {\n",
              "      border-color: transparent;\n",
              "      border-right-color: var(--fill-color);\n",
              "    }\n",
              "    80% {\n",
              "      border-color: transparent;\n",
              "      border-right-color: var(--fill-color);\n",
              "      border-bottom-color: var(--fill-color);\n",
              "    }\n",
              "    90% {\n",
              "      border-color: transparent;\n",
              "      border-bottom-color: var(--fill-color);\n",
              "    }\n",
              "  }\n",
              "</style>\n",
              "\n",
              "  <script>\n",
              "    async function quickchart(key) {\n",
              "      const quickchartButtonEl =\n",
              "        document.querySelector('#' + key + ' button');\n",
              "      quickchartButtonEl.disabled = true;  // To prevent multiple clicks.\n",
              "      quickchartButtonEl.classList.add('colab-df-spinner');\n",
              "      try {\n",
              "        const charts = await google.colab.kernel.invokeFunction(\n",
              "            'suggestCharts', [key], {});\n",
              "      } catch (error) {\n",
              "        console.error('Error during call to suggestCharts:', error);\n",
              "      }\n",
              "      quickchartButtonEl.classList.remove('colab-df-spinner');\n",
              "      quickchartButtonEl.classList.add('colab-df-quickchart-complete');\n",
              "    }\n",
              "    (() => {\n",
              "      let quickchartButtonEl =\n",
              "        document.querySelector('#df-55351ee5-8be1-4110-bdc7-97f2ee0142c0 button');\n",
              "      quickchartButtonEl.style.display =\n",
              "        google.colab.kernel.accessAllowed ? 'block' : 'none';\n",
              "    })();\n",
              "  </script>\n",
              "</div>\n",
              "    </div>\n",
              "  </div>\n"
            ]
          },
          "metadata": {},
          "execution_count": 50
        }
      ]
    },
    {
      "source": [
        "from matplotlib import pyplot as plt\n",
        "import seaborn as sns\n",
        "df.groupby('mood').size().plot(kind='barh', color=sns.palettes.mpl_palette('Dark2'))\n",
        "plt.gca().spines[['top', 'right',]].set_visible(False)"
      ],
      "cell_type": "code",
      "metadata": {
        "id": "hMhj9sk1VFc1",
        "outputId": "237aa900-b012-4b61-fb2a-b4edfd31350c",
        "colab": {
          "base_uri": "https://localhost:8080/",
          "height": 430
        }
      },
      "execution_count": 3,
      "outputs": [
        {
          "output_type": "display_data",
          "data": {
            "text/plain": [
              "<Figure size 640x480 with 1 Axes>"
            ],
            "image/png": "[encoded data removed]"
          },
          "metadata": {}
        }
      ]
    },
    {
      "cell_type": "code",
      "source": [
        "column_headers = df.columns.values.tolist()\n",
        "print(\"The Column Header :\", column_headers)"
      ],
      "metadata": {
        "colab": {
          "base_uri": "https://localhost:8080/"
        },
        "id": "_5DghfLZUn0q",
        "outputId": "5b0bed61-09e4-41f7-db22-c1f5428ab7a9"
      },
      "execution_count": 30,
      "outputs": [
        {
          "output_type": "stream",
          "name": "stdout",
          "text": [
            "The Column Header : ['name', 'album', 'artist', 'id', 'release_date', 'popularity', 'length', 'danceability', 'acousticness', 'energy', 'instrumentalness', 'liveness', 'valence', 'loudness', 'speechiness', 'tempo', 'key', 'time_signature', 'mood']\n"
          ]
        }
      ]
    },
    {
      "cell_type": "code",
      "source": [
        "df2 = pd.unique(df['mood'].values.ravel())\n",
        "print(\"Unique values in the 'mood' column:\\n\",df2)"
      ],
      "metadata": {
        "id": "t-ExJfwy3rsM",
        "outputId": "ace29df0-fad2-43ab-a7d9-57e4ac827dbd",
        "colab": {
          "base_uri": "https://localhost:8080/"
        }
      },
      "execution_count": 31,
      "outputs": [
        {
          "output_type": "stream",
          "name": "stdout",
          "text": [
            "Unique values in the 'mood' column:\n",
            " ['Happy' 'Sad' 'Energetic' 'Calm']\n"
          ]
        }
      ]
    },
    {
      "cell_type": "markdown",
      "source": [
        "# Data Preparation"
      ],
      "metadata": {
        "id": "HSxACqxEKHBa"
      }
    },
    {
      "cell_type": "code",
      "source": [
        "df.info()"
      ],
      "metadata": {
        "id": "13hpx6v1vhms",
        "outputId": "1876828c-3a3f-4391-c068-924310adfbb8",
        "colab": {
          "base_uri": "https://localhost:8080/"
        }
      },
      "execution_count": 51,
      "outputs": [
        {
          "output_type": "stream",
          "name": "stdout",
          "text": [
            "<class 'pandas.core.frame.DataFrame'>\n",
            "RangeIndex: 686 entries, 0 to 685\n",
            "Data columns (total 19 columns):\n",
            " #   Column            Non-Null Count  Dtype  \n",
            "---  ------            --------------  -----  \n",
            " 0   name              686 non-null    object \n",
            " 1   album             686 non-null    object \n",
            " 2   artist            686 non-null    object \n",
            " 3   id                686 non-null    object \n",
            " 4   release_date      686 non-null    object \n",
            " 5   popularity        686 non-null    int64  \n",
            " 6   length            686 non-null    int64  \n",
            " 7   danceability      686 non-null    float64\n",
            " 8   acousticness      686 non-null    float64\n",
            " 9   energy            686 non-null    float64\n",
            " 10  instrumentalness  686 non-null    float64\n",
            " 11  liveness          686 non-null    float64\n",
            " 12  valence           686 non-null    float64\n",
            " 13  loudness          686 non-null    float64\n",
            " 14  speechiness       686 non-null    float64\n",
            " 15  tempo             686 non-null    float64\n",
            " 16  key               686 non-null    int64  \n",
            " 17  time_signature    686 non-null    int64  \n",
            " 18  mood              686 non-null    object \n",
            "dtypes: float64(9), int64(4), object(6)\n",
            "memory usage: 102.0+ KB\n"
          ]
        }
      ]
    },
    {
      "cell_type": "code",
      "source": [
        "df.isnull().sum()"
      ],
      "metadata": {
        "id": "HSBdV7PnIwnh",
        "outputId": "06953822-2114-4aea-a5b6-7ae062df40c1",
        "colab": {
          "base_uri": "https://localhost:8080/"
        }
      },
      "execution_count": 7,
      "outputs": [
        {
          "output_type": "execute_result",
          "data": {
            "text/plain": [
              "name                0\n",
              "album               0\n",
              "artist              0\n",
              "id                  0\n",
              "release_date        0\n",
              "popularity          0\n",
              "length              0\n",
              "danceability        0\n",
              "acousticness        0\n",
              "energy              0\n",
              "instrumentalness    0\n",
              "liveness            0\n",
              "valence             0\n",
              "loudness            0\n",
              "speechiness         0\n",
              "tempo               0\n",
              "key                 0\n",
              "time_signature      0\n",
              "mood                0\n",
              "dtype: int64"
            ]
          },
          "metadata": {},
          "execution_count": 7
        }
      ]
    },
    {
      "cell_type": "markdown",
      "source": [
        "Modeling\n",
        "\n",
        "\n"
      ],
      "metadata": {
        "id": "DByfC6E2KnjV"
      }
    },
    {
      "cell_type": "code",
      "source": [
        "modeldf = df"
      ],
      "metadata": {
        "id": "QQ4Q9vMz9VWK"
      },
      "execution_count": 52,
      "outputs": []
    },
    {
      "cell_type": "code",
      "source": [
        "modeldf = modeldf.drop(['name', 'album','artist','id','release_date','popularity','length','time_signature'], axis=1)\n",
        "modeldf.head()"
      ],
      "metadata": {
        "id": "O1JtMTOL0poF",
        "outputId": "faef69d0-7312-4c06-d2a7-3edfcde718ee",
        "colab": {
          "base_uri": "https://localhost:8080/",
          "height": 226
        }
      },
      "execution_count": 53,
      "outputs": [
        {
          "output_type": "execute_result",
          "data": {
            "text/plain": [
              "   danceability  acousticness  energy  instrumentalness  liveness  valence  \\\n",
              "0         0.866       0.13700   0.730          0.000000    0.0843    0.625   \n",
              "1         0.381       0.01890   0.832          0.196000    0.1530    0.166   \n",
              "2         0.346       0.91300   0.139          0.000077    0.0934    0.116   \n",
              "3         0.466       0.08900   0.438          0.000006    0.1130    0.587   \n",
              "4         0.419       0.00171   0.932          0.000000    0.1370    0.445   \n",
              "\n",
              "   loudness  speechiness    tempo  key       mood  \n",
              "0    -8.201       0.0767  118.523    5      Happy  \n",
              "1    -5.069       0.0492  120.255    8        Sad  \n",
              "2   -15.326       0.0321  136.168    0        Sad  \n",
              "3   -12.858       0.0608  193.100    4      Happy  \n",
              "4    -3.604       0.1060  169.881    1  Energetic  "
            ],
            "text/html": [
              "\n",
              "  <div id=\"df-6e314851-fe1d-4aab-b65a-054cf7da9ddb\" class=\"colab-df-container\">\n",
              "    <div>\n",
              "<style scoped>\n",
              "    .dataframe tbody tr th:only-of-type {\n",
              "        vertical-align: middle;\n",
              "    }\n",
              "\n",
              "    .dataframe tbody tr th {\n",
              "        vertical-align: top;\n",
              "    }\n",
              "\n",
              "    .dataframe thead th {\n",
              "        text-align: right;\n",
              "    }\n",
              "</style>\n",
              "<table border=\"1\" class=\"dataframe\">\n",
              "  <thead>\n",
              "    <tr style=\"text-align: right;\">\n",
              "      <th></th>\n",
              "      <th>danceability</th>\n",
              "      <th>acousticness</th>\n",
              "      <th>energy</th>\n",
              "      <th>instrumentalness</th>\n",
              "      <th>liveness</th>\n",
              "      <th>valence</th>\n",
              "      <th>loudness</th>\n",
              "      <th>speechiness</th>\n",
              "      <th>tempo</th>\n",
              "      <th>key</th>\n",
              "      <th>mood</th>\n",
              "    </tr>\n",
              "  </thead>\n",
              "  <tbody>\n",
              "    <tr>\n",
              "      <th>0</th>\n",
              "      <td>0.866</td>\n",
              "      <td>0.13700</td>\n",
              "      <td>0.730</td>\n",
              "      <td>0.000000</td>\n",
              "      <td>0.0843</td>\n",
              "      <td>0.625</td>\n",
              "      <td>-8.201</td>\n",
              "      <td>0.0767</td>\n",
              "      <td>118.523</td>\n",
              "      <td>5</td>\n",
              "      <td>Happy</td>\n",
              "    </tr>\n",
              "    <tr>\n",
              "      <th>1</th>\n",
              "      <td>0.381</td>\n",
              "      <td>0.01890</td>\n",
              "      <td>0.832</td>\n",
              "      <td>0.196000</td>\n",
              "      <td>0.1530</td>\n",
              "      <td>0.166</td>\n",
              "      <td>-5.069</td>\n",
              "      <td>0.0492</td>\n",
              "      <td>120.255</td>\n",
              "      <td>8</td>\n",
              "      <td>Sad</td>\n",
              "    </tr>\n",
              "    <tr>\n",
              "      <th>2</th>\n",
              "      <td>0.346</td>\n",
              "      <td>0.91300</td>\n",
              "      <td>0.139</td>\n",
              "      <td>0.000077</td>\n",
              "      <td>0.0934</td>\n",
              "      <td>0.116</td>\n",
              "      <td>-15.326</td>\n",
              "      <td>0.0321</td>\n",
              "      <td>136.168</td>\n",
              "      <td>0</td>\n",
              "      <td>Sad</td>\n",
              "    </tr>\n",
              "    <tr>\n",
              "      <th>3</th>\n",
              "      <td>0.466</td>\n",
              "      <td>0.08900</td>\n",
              "      <td>0.438</td>\n",
              "      <td>0.000006</td>\n",
              "      <td>0.1130</td>\n",
              "      <td>0.587</td>\n",
              "      <td>-12.858</td>\n",
              "      <td>0.0608</td>\n",
              "      <td>193.100</td>\n",
              "      <td>4</td>\n",
              "      <td>Happy</td>\n",
              "    </tr>\n",
              "    <tr>\n",
              "      <th>4</th>\n",
              "      <td>0.419</td>\n",
              "      <td>0.00171</td>\n",
              "      <td>0.932</td>\n",
              "      <td>0.000000</td>\n",
              "      <td>0.1370</td>\n",
              "      <td>0.445</td>\n",
              "      <td>-3.604</td>\n",
              "      <td>0.1060</td>\n",
              "      <td>169.881</td>\n",
              "      <td>1</td>\n",
              "      <td>Energetic</td>\n",
              "    </tr>\n",
              "  </tbody>\n",
              "</table>\n",
              "</div>\n",
              "    <div class=\"colab-df-buttons\">\n",
              "\n",
              "  <div class=\"colab-df-container\">\n",
              "    <button class=\"colab-df-convert\" onclick=\"convertToInteractive('df-6e314851-fe1d-4aab-b65a-054cf7da9ddb')\"\n",
              "            title=\"Convert this dataframe to an interactive table.\"\n",
              "            style=\"display:none;\">\n",
              "\n",
              "  <svg xmlns=\"http://www.w3.org/2000/svg\" height=\"24px\" viewBox=\"0 -960 960 960\">\n",
              "    <path d=\"M120-120v-720h720v720H120Zm60-500h600v-160H180v160Zm220 220h160v-160H400v160Zm0 220h160v-160H400v160ZM180-400h160v-160H180v160Zm440 0h160v-160H620v160ZM180-180h160v-160H180v160Zm440 0h160v-160H620v160Z\"/>\n",
              "  </svg>\n",
              "    </button>\n",
              "\n",
              "  <style>\n",
              "    .colab-df-container {\n",
              "      display:flex;\n",
              "      gap: 12px;\n",
              "    }\n",
              "\n",
              "    .colab-df-convert {\n",
              "      background-color: #E8F0FE;\n",
              "      border: none;\n",
              "      border-radius: 50%;\n",
              "      cursor: pointer;\n",
              "      display: none;\n",
              "      fill: #1967D2;\n",
              "      height: 32px;\n",
              "      padding: 0 0 0 0;\n",
              "      width: 32px;\n",
              "    }\n",
              "\n",
              "    .colab-df-convert:hover {\n",
              "      background-color: #E2EBFA;\n",
              "      box-shadow: 0px 1px 2px rgba(60, 64, 67, 0.3), 0px 1px 3px 1px rgba(60, 64, 67, 0.15);\n",
              "      fill: #174EA6;\n",
              "    }\n",
              "\n",
              "    .colab-df-buttons div {\n",
              "      margin-bottom: 4px;\n",
              "    }\n",
              "\n",
              "    [theme=dark] .colab-df-convert {\n",
              "      background-color: #3B4455;\n",
              "      fill: #D2E3FC;\n",
              "    }\n",
              "\n",
              "    [theme=dark] .colab-df-convert:hover {\n",
              "      background-color: #434B5C;\n",
              "      box-shadow: 0px 1px 3px 1px rgba(0, 0, 0, 0.15);\n",
              "      filter: drop-shadow(0px 1px 2px rgba(0, 0, 0, 0.3));\n",
              "      fill: #FFFFFF;\n",
              "    }\n",
              "  </style>\n",
              "\n",
              "    <script>\n",
              "      const buttonEl =\n",
              "        document.querySelector('#df-6e314851-fe1d-4aab-b65a-054cf7da9ddb button.colab-df-convert');\n",
              "      buttonEl.style.display =\n",
              "        google.colab.kernel.accessAllowed ? 'block' : 'none';\n",
              "\n",
              "      async function convertToInteractive(key) {\n",
              "        const element = document.querySelector('#df-6e314851-fe1d-4aab-b65a-054cf7da9ddb');\n",
              "        const dataTable =\n",
              "          await google.colab.kernel.invokeFunction('convertToInteractive',\n",
              "                                                    [key], {});\n",
              "        if (!dataTable) return;\n",
              "\n",
              "        const docLinkHtml = 'Like what you see? Visit the ' +\n",
              "          '<a target=\"_blank\" href=https://colab.research.google.com/notebooks/data_table.ipynb>data table notebook</a>'\n",
              "          + ' to learn more about interactive tables.';\n",
              "        element.innerHTML = '';\n",
              "        dataTable['output_type'] = 'display_data';\n",
              "        await google.colab.output.renderOutput(dataTable, element);\n",
              "        const docLink = document.createElement('div');\n",
              "        docLink.innerHTML = docLinkHtml;\n",
              "        element.appendChild(docLink);\n",
              "      }\n",
              "    </script>\n",
              "  </div>\n",
              "\n",
              "\n",
              "<div id=\"df-f55cb2a9-a5d9-48cc-81fd-4118b5452887\">\n",
              "  <button class=\"colab-df-quickchart\" onclick=\"quickchart('df-f55cb2a9-a5d9-48cc-81fd-4118b5452887')\"\n",
              "            title=\"Suggest charts\"\n",
              "            style=\"display:none;\">\n",
              "\n",
              "<svg xmlns=\"http://www.w3.org/2000/svg\" height=\"24px\"viewBox=\"0 0 24 24\"\n",
              "     width=\"24px\">\n",
              "    <g>\n",
              "        <path d=\"M19 3H5c-1.1 0-2 .9-2 2v14c0 1.1.9 2 2 2h14c1.1 0 2-.9 2-2V5c0-1.1-.9-2-2-2zM9 17H7v-7h2v7zm4 0h-2V7h2v10zm4 0h-2v-4h2v4z\"/>\n",
              "    </g>\n",
              "</svg>\n",
              "  </button>\n",
              "\n",
              "<style>\n",
              "  .colab-df-quickchart {\n",
              "      --bg-color: #E8F0FE;\n",
              "      --fill-color: #1967D2;\n",
              "      --hover-bg-color: #E2EBFA;\n",
              "      --hover-fill-color: #174EA6;\n",
              "      --disabled-fill-color: #AAA;\n",
              "      --disabled-bg-color: #DDD;\n",
              "  }\n",
              "\n",
              "  [theme=dark] .colab-df-quickchart {\n",
              "      --bg-color: #3B4455;\n",
              "      --fill-color: #D2E3FC;\n",
              "      --hover-bg-color: #434B5C;\n",
              "      --hover-fill-color: #FFFFFF;\n",
              "      --disabled-bg-color: #3B4455;\n",
              "      --disabled-fill-color: #666;\n",
              "  }\n",
              "\n",
              "  .colab-df-quickchart {\n",
              "    background-color: var(--bg-color);\n",
              "    border: none;\n",
              "    border-radius: 50%;\n",
              "    cursor: pointer;\n",
              "    display: none;\n",
              "    fill: var(--fill-color);\n",
              "    height: 32px;\n",
              "    padding: 0;\n",
              "    width: 32px;\n",
              "  }\n",
              "\n",
              "  .colab-df-quickchart:hover {\n",
              "    background-color: var(--hover-bg-color);\n",
              "    box-shadow: 0 1px 2px rgba(60, 64, 67, 0.3), 0 1px 3px 1px rgba(60, 64, 67, 0.15);\n",
              "    fill: var(--button-hover-fill-color);\n",
              "  }\n",
              "\n",
              "  .colab-df-quickchart-complete:disabled,\n",
              "  .colab-df-quickchart-complete:disabled:hover {\n",
              "    background-color: var(--disabled-bg-color);\n",
              "    fill: var(--disabled-fill-color);\n",
              "    box-shadow: none;\n",
              "  }\n",
              "\n",
              "  .colab-df-spinner {\n",
              "    border: 2px solid var(--fill-color);\n",
              "    border-color: transparent;\n",
              "    border-bottom-color: var(--fill-color);\n",
              "    animation:\n",
              "      spin 1s steps(1) infinite;\n",
              "  }\n",
              "\n",
              "  @keyframes spin {\n",
              "    0% {\n",
              "      border-color: transparent;\n",
              "      border-bottom-color: var(--fill-color);\n",
              "      border-left-color: var(--fill-color);\n",
              "    }\n",
              "    20% {\n",
              "      border-color: transparent;\n",
              "      border-left-color: var(--fill-color);\n",
              "      border-top-color: var(--fill-color);\n",
              "    }\n",
              "    30% {\n",
              "      border-color: transparent;\n",
              "      border-left-color: var(--fill-color);\n",
              "      border-top-color: var(--fill-color);\n",
              "      border-right-color: var(--fill-color);\n",
              "    }\n",
              "    40% {\n",
              "      border-color: transparent;\n",
              "      border-right-color: var(--fill-color);\n",
              "      border-top-color: var(--fill-color);\n",
              "    }\n",
              "    60% {\n",
              "      border-color: transparent;\n",
              "      border-right-color: var(--fill-color);\n",
              "    }\n",
              "    80% {\n",
              "      border-color: transparent;\n",
              "      border-right-color: var(--fill-color);\n",
              "      border-bottom-color: var(--fill-color);\n",
              "    }\n",
              "    90% {\n",
              "      border-color: transparent;\n",
              "      border-bottom-color: var(--fill-color);\n",
              "    }\n",
              "  }\n",
              "</style>\n",
              "\n",
              "  <script>\n",
              "    async function quickchart(key) {\n",
              "      const quickchartButtonEl =\n",
              "        document.querySelector('#' + key + ' button');\n",
              "      quickchartButtonEl.disabled = true;  // To prevent multiple clicks.\n",
              "      quickchartButtonEl.classList.add('colab-df-spinner');\n",
              "      try {\n",
              "        const charts = await google.colab.kernel.invokeFunction(\n",
              "            'suggestCharts', [key], {});\n",
              "      } catch (error) {\n",
              "        console.error('Error during call to suggestCharts:', error);\n",
              "      }\n",
              "      quickchartButtonEl.classList.remove('colab-df-spinner');\n",
              "      quickchartButtonEl.classList.add('colab-df-quickchart-complete');\n",
              "    }\n",
              "    (() => {\n",
              "      let quickchartButtonEl =\n",
              "        document.querySelector('#df-f55cb2a9-a5d9-48cc-81fd-4118b5452887 button');\n",
              "      quickchartButtonEl.style.display =\n",
              "        google.colab.kernel.accessAllowed ? 'block' : 'none';\n",
              "    })();\n",
              "  </script>\n",
              "</div>\n",
              "    </div>\n",
              "  </div>\n"
            ]
          },
          "metadata": {},
          "execution_count": 53
        }
      ]
    },
    {
      "cell_type": "code",
      "source": [
        "modeldf.info()"
      ],
      "metadata": {
        "id": "le3p24hg5Aat",
        "outputId": "4f25011c-5f47-4dd6-88df-1c54fcb05248",
        "colab": {
          "base_uri": "https://localhost:8080/"
        }
      },
      "execution_count": 54,
      "outputs": [
        {
          "output_type": "stream",
          "name": "stdout",
          "text": [
            "<class 'pandas.core.frame.DataFrame'>\n",
            "RangeIndex: 686 entries, 0 to 685\n",
            "Data columns (total 11 columns):\n",
            " #   Column            Non-Null Count  Dtype  \n",
            "---  ------            --------------  -----  \n",
            " 0   danceability      686 non-null    float64\n",
            " 1   acousticness      686 non-null    float64\n",
            " 2   energy            686 non-null    float64\n",
            " 3   instrumentalness  686 non-null    float64\n",
            " 4   liveness          686 non-null    float64\n",
            " 5   valence           686 non-null    float64\n",
            " 6   loudness          686 non-null    float64\n",
            " 7   speechiness       686 non-null    float64\n",
            " 8   tempo             686 non-null    float64\n",
            " 9   key               686 non-null    int64  \n",
            " 10  mood              686 non-null    object \n",
            "dtypes: float64(9), int64(1), object(1)\n",
            "memory usage: 59.1+ KB\n"
          ]
        }
      ]
    },
    {
      "cell_type": "code",
      "source": [
        "modeldf['mood'].unique()"
      ],
      "metadata": {
        "id": "80kV2fgzM1pA",
        "outputId": "0899a499-39c7-4016-f9fd-d36acf36c56e",
        "colab": {
          "base_uri": "https://localhost:8080/"
        }
      },
      "execution_count": 56,
      "outputs": [
        {
          "output_type": "execute_result",
          "data": {
            "text/plain": [
              "array(['Happy', 'Sad', 'Energetic', 'Calm'], dtype=object)"
            ]
          },
          "metadata": {},
          "execution_count": 56
        }
      ]
    },
    {
      "cell_type": "code",
      "source": [
        "# Import label encoder\n",
        "from sklearn import preprocessing\n",
        "\n",
        "# label_encoder object knows\n",
        "# how to understand word labels.\n",
        "label_encoder = preprocessing.LabelEncoder()\n",
        "\n",
        "# Encode labels in column 'species'.\n",
        "modeldf['mood']= label_encoder.fit_transform(modeldf['mood'])\n",
        "\n",
        "modeldf['mood'].unique()"
      ],
      "metadata": {
        "id": "0EUMG1NJOQuo",
        "outputId": "71d6d3b2-71ed-43a1-a005-be571d47b34c",
        "colab": {
          "base_uri": "https://localhost:8080/"
        }
      },
      "execution_count": 57,
      "outputs": [
        {
          "output_type": "execute_result",
          "data": {
            "text/plain": [
              "array([2, 3, 1, 0])"
            ]
          },
          "metadata": {},
          "execution_count": 57
        }
      ]
    },
    {
      "cell_type": "code",
      "source": [
        "labels = modeldf.pop('mood')"
      ],
      "metadata": {
        "id": "-2t-8Ojt5Z_b"
      },
      "execution_count": 58,
      "outputs": []
    },
    {
      "cell_type": "code",
      "source": [
        "from sklearn.model_selection import train_test_split\n",
        "# 'test_size' specifies the percentage of the data used for testing (here, 20%)\n",
        "X_train, X_test, y_train, y_test = train_test_split(modeldf, labels, test_size=0.2)\n"
      ],
      "metadata": {
        "id": "5VauMf_T7yu5"
      },
      "execution_count": 59,
      "outputs": []
    },
    {
      "cell_type": "code",
      "source": [
        "from sklearn.ensemble import RandomForestClassifier\n",
        "rf = RandomForestClassifier()\n",
        "rf.fit(X_train, y_train)"
      ],
      "metadata": {
        "id": "GF6Jup9NLelI",
        "outputId": "975db0f7-2325-4055-ecfd-8e9344e7325b",
        "colab": {
          "base_uri": "https://localhost:8080/",
          "height": 74
        }
      },
      "execution_count": 60,
      "outputs": [
        {
          "output_type": "execute_result",
          "data": {
            "text/plain": [
              "RandomForestClassifier()"
            ],
            "text/html": [
              "<style>#sk-container-id-2 {color: black;background-color: white;}#sk-container-id-2 pre{padding: 0;}#sk-container-id-2 div.sk-toggleable {background-color: white;}#sk-container-id-2 label.sk-toggleable__label {cursor: pointer;display: block;width: 100%;margin-bottom: 0;padding: 0.3em;box-sizing: border-box;text-align: center;}#sk-container-id-2 label.sk-toggleable__label-arrow:before {content: \"▸\";float: left;margin-right: 0.25em;color: #696969;}#sk-container-id-2 label.sk-toggleable__label-arrow:hover:before {color: black;}#sk-container-id-2 div.sk-estimator:hover label.sk-toggleable__label-arrow:before {color: black;}#sk-container-id-2 div.sk-toggleable__content {max-height: 0;max-width: 0;overflow: hidden;text-align: left;background-color: #f0f8ff;}#sk-container-id-2 div.sk-toggleable__content pre {margin: 0.2em;color: black;border-radius: 0.25em;background-color: #f0f8ff;}#sk-container-id-2 input.sk-toggleable__control:checked~div.sk-toggleable__content {max-height: 200px;max-width: 100%;overflow: auto;}#sk-container-id-2 input.sk-toggleable__control:checked~label.sk-toggleable__label-arrow:before {content: \"▾\";}#sk-container-id-2 div.sk-estimator input.sk-toggleable__control:checked~label.sk-toggleable__label {background-color: #d4ebff;}#sk-container-id-2 div.sk-label input.sk-toggleable__control:checked~label.sk-toggleable__label {background-color: #d4ebff;}#sk-container-id-2 input.sk-hidden--visually {border: 0;clip: rect(1px 1px 1px 1px);clip: rect(1px, 1px, 1px, 1px);height: 1px;margin: -1px;overflow: hidden;padding: 0;position: absolute;width: 1px;}#sk-container-id-2 div.sk-estimator {font-family: monospace;background-color: #f0f8ff;border: 1px dotted black;border-radius: 0.25em;box-sizing: border-box;margin-bottom: 0.5em;}#sk-container-id-2 div.sk-estimator:hover {background-color: #d4ebff;}#sk-container-id-2 div.sk-parallel-item::after {content: \"\";width: 100%;border-bottom: 1px solid gray;flex-grow: 1;}#sk-container-id-2 div.sk-label:hover label.sk-toggleable__label {background-color: #d4ebff;}#sk-container-id-2 div.sk-serial::before {content: \"\";position: absolute;border-left: 1px solid gray;box-sizing: border-box;top: 0;bottom: 0;left: 50%;z-index: 0;}#sk-container-id-2 div.sk-serial {display: flex;flex-direction: column;align-items: center;background-color: white;padding-right: 0.2em;padding-left: 0.2em;position: relative;}#sk-container-id-2 div.sk-item {position: relative;z-index: 1;}#sk-container-id-2 div.sk-parallel {display: flex;align-items: stretch;justify-content: center;background-color: white;position: relative;}#sk-container-id-2 div.sk-item::before, #sk-container-id-2 div.sk-parallel-item::before {content: \"\";position: absolute;border-left: 1px solid gray;box-sizing: border-box;top: 0;bottom: 0;left: 50%;z-index: -1;}#sk-container-id-2 div.sk-parallel-item {display: flex;flex-direction: column;z-index: 1;position: relative;background-color: white;}#sk-container-id-2 div.sk-parallel-item:first-child::after {align-self: flex-end;width: 50%;}#sk-container-id-2 div.sk-parallel-item:last-child::after {align-self: flex-start;width: 50%;}#sk-container-id-2 div.sk-parallel-item:only-child::after {width: 0;}#sk-container-id-2 div.sk-dashed-wrapped {border: 1px dashed gray;margin: 0 0.4em 0.5em 0.4em;box-sizing: border-box;padding-bottom: 0.4em;background-color: white;}#sk-container-id-2 div.sk-label label {font-family: monospace;font-weight: bold;display: inline-block;line-height: 1.2em;}#sk-container-id-2 div.sk-label-container {text-align: center;}#sk-container-id-2 div.sk-container {/* jupyter's `normalize.less` sets `[hidden] { display: none; }` but bootstrap.min.css set `[hidden] { display: none !important; }` so we also need the `!important` here to be able to override the default hidden behavior on the sphinx rendered scikit-learn.org. See: https://github.com/scikit-learn/scikit-learn/issues/21755 */display: inline-block !important;position: relative;}#sk-container-id-2 div.sk-text-repr-fallback {display: none;}</style><div id=\"sk-container-id-2\" class=\"sk-top-container\"><div class=\"sk-text-repr-fallback\"><pre>RandomForestClassifier()</pre><b>In a Jupyter environment, please rerun this cell to show the HTML representation or trust the notebook. <br />On GitHub, the HTML representation is unable to render, please try loading this page with nbviewer.org.</b></div><div class=\"sk-container\" hidden><div class=\"sk-item\"><div class=\"sk-estimator sk-toggleable\"><input class=\"sk-toggleable__control sk-hidden--visually\" id=\"sk-estimator-id-2\" type=\"checkbox\" checked><label for=\"sk-estimator-id-2\" class=\"sk-toggleable__label sk-toggleable__label-arrow\">RandomForestClassifier</label><div class=\"sk-toggleable__content\"><pre>RandomForestClassifier()</pre></div></div></div></div></div>"
            ]
          },
          "metadata": {},
          "execution_count": 60
        }
      ]
    },
    {
      "cell_type": "code",
      "source": [
        "rf.score(X_test,y_test)"
      ],
      "metadata": {
        "id": "olv_-mx8O-xl",
        "outputId": "9f011e1f-0f9f-443b-9251-c25146af9818",
        "colab": {
          "base_uri": "https://localhost:8080/"
        }
      },
      "execution_count": 61,
      "outputs": [
        {
          "output_type": "execute_result",
          "data": {
            "text/plain": [
              "0.7971014492753623"
            ]
          },
          "metadata": {},
          "execution_count": 61
        }
      ]
    },
    {
      "cell_type": "code",
      "source": [
        "# Create a series containing feature importances from the model and feature names from the training data\n",
        "feature_importances = pd.Series(rf.feature_importances_, index=X_train.columns).sort_values(ascending=False)\n",
        "\n",
        "# Plot a simple bar chart\n",
        "feature_importances.plot.bar();"
      ],
      "metadata": {
        "id": "6AoqqjQnPSf4",
        "outputId": "9039c565-ebd8-4e14-8c8e-391c2659a05d",
        "colab": {
          "base_uri": "https://localhost:8080/",
          "height": 536
        }
      },
      "execution_count": 62,
      "outputs": [
        {
          "output_type": "display_data",
          "data": {
            "text/plain": [
              "<Figure size 640x480 with 1 Axes>"
            ],
            "image/png": "[encoded data removed]"
          },
          "metadata": {}
        }
      ]
    }
  ]
}